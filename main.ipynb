{
  "nbformat": 4,
  "nbformat_minor": 0,
  "metadata": {
    "colab": {
      "provenance": [],
      "toc_visible": true,
      "authorship_tag": "ABX9TyMd0pvkt2GGANs0OzeLa35W",
      "include_colab_link": true
    },
    "kernelspec": {
      "name": "python3",
      "display_name": "Python 3"
    },
    "language_info": {
      "name": "python"
    }
  },
  "cells": [
    {
      "cell_type": "markdown",
      "metadata": {
        "id": "view-in-github",
        "colab_type": "text"
      },
      "source": [
        "<a href=\"https://colab.research.google.com/github/PashaIanko/Robust-Feature-Selection/blob/main/main.ipynb\" target=\"_parent\"><img src=\"https://colab.research.google.com/assets/colab-badge.svg\" alt=\"Open In Colab\"/></a>"
      ]
    },
    {
      "cell_type": "markdown",
      "source": [
        "# Imports"
      ],
      "metadata": {
        "id": "NwzaaHgsRf6U"
      }
    },
    {
      "cell_type": "code",
      "execution_count": 1,
      "metadata": {
        "id": "-0Yc44wzRbcr"
      },
      "outputs": [],
      "source": [
        "# Colab\n",
        "from google.colab import drive\n",
        "\n",
        "# paths\n",
        "import os\n",
        "\n",
        "# data\n",
        "import pandas as pd\n",
        "\n",
        "# sklearn\n",
        "from sklearn.model_selection import train_test_split\n",
        "\n",
        "# math\n",
        "import numpy as np\n",
        "\n",
        "# plotting\n",
        "from matplotlib import pyplot as plt\n",
        "\n",
        "# sklearn pipeline & preprocessing\n",
        "from sklearn.pipeline import Pipeline\n",
        "from sklearn.compose import ColumnTransformer\n",
        "from sklearn.preprocessing import MinMaxScaler\n",
        "from sklearn.preprocessing import OrdinalEncoder"
      ]
    },
    {
      "cell_type": "code",
      "source": [
        "# PEP 8 standard\n",
        "%%capture \n",
        "!pip install pycodestyle \n",
        "!pip install --index-url https://test.pypi.org/simple/ nbpep8 \n",
        "from nbpep8.nbpep8 import pep8"
      ],
      "metadata": {
        "id": "lLsbFkcAXNrL"
      },
      "execution_count": 2,
      "outputs": []
    },
    {
      "cell_type": "code",
      "source": [
        "%%capture\n",
        "def download_files(url_dict):\n",
        "    for file, url in url_dict.items():\n",
        "        print(f'Downloading {file}')\n",
        "        !wget -O {file} {url} {file}\n",
        "\n",
        "git_download_path = \\\n",
        "    'https://raw.githubusercontent.com/PashaIanko/Sklearn-Utils/main/'\n",
        "\n",
        "files = [\n",
        "    'sklearn_utils.py',\n",
        "    'model.py'\n",
        "]\n",
        "\n",
        "url_dict = {file: git_download_path + file for file in files}\n",
        "download_files(url_dict)"
      ],
      "metadata": {
        "id": "svhVi-NKWq0O"
      },
      "execution_count": 3,
      "outputs": []
    },
    {
      "cell_type": "code",
      "source": [
        "import importlib\n",
        "import sklearn_utils\n",
        "import model\n",
        "\n",
        "def reload_all(modules_list_):\n",
        "    for module in modules_list_:\n",
        "        importlib.reload(module)\n",
        "\n",
        "reload_all(\n",
        "    [\n",
        "        sklearn_utils,\n",
        "        model\n",
        "        # other modules\n",
        "    ]\n",
        ")\n",
        "\n",
        "from model import Model\n",
        "from sklearn_utils import (\n",
        "    plot_cv_results,\n",
        "    dict_subset,\n",
        "    fit_grid_search\n",
        ")"
      ],
      "metadata": {
        "id": "7JVVBoqWYd29"
      },
      "execution_count": 4,
      "outputs": []
    },
    {
      "cell_type": "markdown",
      "source": [
        "# Helper functions & constants"
      ],
      "metadata": {
        "id": "CKqJwdiBBNJz"
      }
    },
    {
      "cell_type": "code",
      "source": [
        "TRAINVAL_SIZE = 0.8\n",
        "TRAIN_SIZE = 0.8  # size(trainval) * train_size\n",
        "RANDOM_STATE = 42\n",
        "PSYCHOLOGIC_SAMPLE_SIZE = 0.7"
      ],
      "metadata": {
        "id": "5JkhJsz6B0Tq"
      },
      "execution_count": 51,
      "outputs": []
    },
    {
      "cell_type": "code",
      "source": [
        "def read_data(root_path, folder_name):\n",
        "    if folder_name == '5. PHQ9_GAD7':\n",
        "\n",
        "        phq9_gad_7_csv_path = os.path.join(\n",
        "            root_path, '5. PHQ9_GAD7', 'PHQ9_GAD7_df.csv')\n",
        "        assert os.path.isfile(phq9_gad_7_csv_path)\n",
        "        return pd.read_csv(phq9_gad_7_csv_path, sep=';')\n",
        "\n",
        "    if folder_name == '2. PRMQ':\n",
        "        path = os.path.join(\n",
        "            root_path, '2. PRMQ', 'PRMQ_df.csv')\n",
        "        assert os.path.isfile(path)\n",
        "        return pd.read_csv(path, sep=',')\n",
        "\n",
        "\n",
        "pep8(_ih)"
      ],
      "metadata": {
        "id": "19GeXLvA_4_t",
        "outputId": "8b5ccf22-7f85-4f2f-b4f6-f3f288fe7b95",
        "colab": {
          "base_uri": "https://localhost:8080/"
        }
      },
      "execution_count": 52,
      "outputs": [
        {
          "output_type": "stream",
          "name": "stdout",
          "text": [
            "\n"
          ]
        }
      ]
    },
    {
      "cell_type": "code",
      "source": [
        "def check_data(dataset_):\n",
        "    # Check is any NAN values\n",
        "    assert dataset_.isna().sum().sum() == 0\n",
        "\n",
        "    # Check that all values are in appropriate range\n",
        "    assert (dataset_.values[:, :-1] <= 5).all() \\\n",
        "        & (dataset_.values[:, :-1] >= 0).all()"
      ],
      "metadata": {
        "id": "VSo3T_9CBMgN"
      },
      "execution_count": 53,
      "outputs": []
    },
    {
      "cell_type": "code",
      "source": [
        "def check_split_correctness(df_, target_column_, eps_=0.01):\n",
        "    '''\n",
        "    Checks that class balance is still 50%/50%\n",
        "    '''\n",
        "    assert abs(df_[target_column_].value_counts(normalize=True)['D'] - 0.5) \\\n",
        "        <= eps_\n",
        "    assert abs(df_[target_column_].value_counts(normalize=True)['H'] - 0.5) \\\n",
        "        <= eps_\n",
        "\n",
        "\n",
        "pep8(_ih)"
      ],
      "metadata": {
        "id": "yv4_BjkgDDy6",
        "outputId": "3d14b3fd-5c37-44b0-faee-9f7ab5958e82",
        "colab": {
          "base_uri": "https://localhost:8080/"
        }
      },
      "execution_count": 54,
      "outputs": [
        {
          "output_type": "stream",
          "name": "stdout",
          "text": [
            "\n"
          ]
        }
      ]
    },
    {
      "cell_type": "code",
      "source": [
        "def prepare_sample(\n",
        "    dataset_,\n",
        "    sample_size_,\n",
        "    random_state_=RANDOM_STATE\n",
        "):\n",
        "    # Assume the proper structure of the dataset\n",
        "    # (even number of rows - first honest, then dishonest\n",
        "    # responses)\n",
        "\n",
        "    '''\n",
        "    We split the dataset into 2 halves (of honest and dishonest responses)\n",
        "    Then generate a sample of random indices, subsample same sample from honest\n",
        "    half, and dishonest half. And concatenate the samples\n",
        "    '''\n",
        "\n",
        "    honest_subset = pd.DataFrame(\n",
        "        dataset_.loc[: (dataset_.shape[0] / 2) - 1]\n",
        "    )\n",
        "    dishonest_subset = pd.DataFrame(\n",
        "        dataset_.loc[dataset_.shape[0] / 2:]\n",
        "    )\n",
        "\n",
        "    dishonest_subset.reset_index(inplace=True)\n",
        "    dishonest_subset.drop(['index'], axis='columns', inplace=True)\n",
        "\n",
        "    assert honest_subset.shape[0] == dishonest_subset.shape[0]\n",
        "    assert honest_subset.shape[0] + dishonest_subset.shape[0] \\\n",
        "        == dataset.shape[0]\n",
        "    assert honest_subset.CONDITION.nunique() \\\n",
        "        == dishonest_subset.CONDITION.nunique() \\\n",
        "        == 1\n",
        "    assert (honest_subset.index == dishonest_subset.index).all()\n",
        "\n",
        "    np.random.seed(random_state_)\n",
        "\n",
        "    sample = np.random.choice(\n",
        "        range(honest_subset.shape[0]),\n",
        "        replace=False,\n",
        "        size=int(honest_subset.shape[0] * sample_size_)\n",
        "    )\n",
        "\n",
        "    res = pd.concat(\n",
        "        [\n",
        "            honest_subset.loc[sample],\n",
        "            dishonest_subset.loc[sample]\n",
        "        ]\n",
        "    )\n",
        "    assert res.shape[1] \\\n",
        "        == honest_subset.shape[1] \\\n",
        "        == dishonest_subset.shape[1]\n",
        "\n",
        "    return res\n",
        "\n",
        "\n",
        "pep8(_ih)"
      ],
      "metadata": {
        "id": "0zwgaNlTFD6_",
        "outputId": "202daf79-672e-4849-dd2d-2039f4028e93",
        "colab": {
          "base_uri": "https://localhost:8080/"
        }
      },
      "execution_count": 55,
      "outputs": [
        {
          "output_type": "stream",
          "name": "stdout",
          "text": [
            "\n"
          ]
        }
      ]
    },
    {
      "cell_type": "code",
      "source": [
        "def verify_sample_correctness(df_original_, df_sampled_):\n",
        "    for i in df_sampled_.index:\n",
        "        # assert that both Honest and Dishonest conditions are present\n",
        "        assert len(df_sampled_.index[df_sampled_.index == i]) == 2\n",
        "        assert 'H' in df_sampled_.loc[i].CONDITION.values \\\n",
        "            and 'D' in df_sampled_.loc[i].CONDITION.values\n",
        "\n",
        "        # Sample of honest and dishonest response of the same\n",
        "        # person in original dataset\n",
        "        original_sample = df_original_.loc[\n",
        "            [i, int(df_original_.shape[0] / 2) + i]\n",
        "        ]\n",
        "        assert (original_sample.values == df_sampled_.loc[i].values).all()\n",
        "\n",
        "\n",
        "pep8(_ih)"
      ],
      "metadata": {
        "id": "tmuQLf2_GsN1",
        "outputId": "c596c0c1-e823-48f5-cea5-be6b87ea827a",
        "colab": {
          "base_uri": "https://localhost:8080/"
        }
      },
      "execution_count": 56,
      "outputs": [
        {
          "output_type": "stream",
          "name": "stdout",
          "text": [
            "\n"
          ]
        }
      ]
    },
    {
      "cell_type": "code",
      "source": [
        "def plot_averaged_question_responses(df_):\n",
        "    '''\n",
        "    Assumed structure: target is CONDITION, with H and D values\n",
        "    1. Splits the dataset into Honest and Dishonest\n",
        "    2. For each question, computes average score in Honest\n",
        "    dataset, and Dishonest dataset\n",
        "    3. Plots the results\n",
        "    '''\n",
        "\n",
        "    df_honest = df_[df_['CONDITION'] == 'H']\n",
        "    df_dishonest = df_[df_['CONDITION'] == 'D']\n",
        "\n",
        "    result = {}\n",
        "    for question in df_.columns[df_.columns != 'CONDITION']:\n",
        "        mean_response_honest = df_honest[question].mean()\n",
        "        mean_response_dishonest = df_dishonest[question].mean()\n",
        "\n",
        "        result[question] = {\n",
        "            'honest': mean_response_honest,\n",
        "            'dishonest': mean_response_dishonest\n",
        "        }\n",
        "\n",
        "    mean_responses_df = pd.DataFrame(result).transpose()\n",
        "\n",
        "    mean_responses_df['relative_delta'] = \\\n",
        "        (mean_responses_df['dishonest'] - mean_responses_df['honest']) \\\n",
        "        / (mean_responses_df['honest'])\n",
        "\n",
        "    ax = mean_responses_df.plot(kind='bar')\n",
        "    ax.set_title(\n",
        "        'Mean responses in honest and dishonest conditions \\n(shuffled people)'\n",
        "    )\n",
        "    ax.grid()\n",
        "\n",
        "    return mean_responses_df\n",
        "\n",
        "\n",
        "pep8(_ih)"
      ],
      "metadata": {
        "id": "YbgBIBx9I3Ew",
        "outputId": "9c14e595-e20f-4826-b305-7726bae97bac",
        "colab": {
          "base_uri": "https://localhost:8080/"
        }
      },
      "execution_count": 67,
      "outputs": [
        {
          "output_type": "stream",
          "name": "stdout",
          "text": [
            "\n"
          ]
        }
      ]
    },
    {
      "cell_type": "markdown",
      "source": [
        "# Mount drive & set up paths"
      ],
      "metadata": {
        "id": "PQVl8F0kRosS"
      }
    },
    {
      "cell_type": "code",
      "source": [
        "drive.mount('/content/gdrive')\n",
        "datasets_folder_path = \\\n",
        "    '/content/gdrive/MyDrive/ML/DataScience_Dataset 2022-2023'\n",
        "\n",
        "assert os.path.isdir(datasets_folder_path)"
      ],
      "metadata": {
        "colab": {
          "base_uri": "https://localhost:8080/"
        },
        "id": "tlwgn4uxRq-b",
        "outputId": "0f275fd4-acc9-4b03-e279-c70f6ed38c84"
      },
      "execution_count": 5,
      "outputs": [
        {
          "output_type": "stream",
          "name": "stdout",
          "text": [
            "Mounted at /content/gdrive\n"
          ]
        }
      ]
    },
    {
      "cell_type": "markdown",
      "source": [
        "# 2. PRMQ"
      ],
      "metadata": {
        "id": "BwLAYe7F_wUz"
      }
    },
    {
      "cell_type": "markdown",
      "source": [
        "## Download the data"
      ],
      "metadata": {
        "id": "EJHpYhxu_ygi"
      }
    },
    {
      "cell_type": "code",
      "source": [
        "dataset = read_data(\n",
        "    datasets_folder_path,\n",
        "    '2. PRMQ'\n",
        ")\n",
        "\n",
        "dataset.head(1)"
      ],
      "metadata": {
        "id": "Li52v2t2_x_9",
        "outputId": "722f6b25-fdb0-4455-bde0-704001f01126",
        "colab": {
          "base_uri": "https://localhost:8080/",
          "height": 162
        }
      },
      "execution_count": 11,
      "outputs": [
        {
          "output_type": "execute_result",
          "data": {
            "text/plain": [
              "   PRMQ_PR_SH_CU1  PRMQ_RE _LO_ENV2   PRMQ_PR_SH_ENV3  PRMQ_RE_SH_CU4  \\\n",
              "0               4                 3                 2               4   \n",
              "\n",
              "   PRMQ_PR_LO_CU5  PRMQ_RE_SH_ENV6  PRMQ_PR_LO_ENV7  PRMQ_RE_LO_CU8  \\\n",
              "0               4                2                3               2   \n",
              "\n",
              "   PRMQ_RE_LO_ENV9  PRMQ_PR_SH_ENV10  PRMQ _RE_SH_CU11  PRMQ_PR_LO_ENV12  \\\n",
              "0                3                 3                 4                 4   \n",
              "\n",
              "   PRMQ _RE_SH_ENV13  PRMQ _PR_LO_CU14  PRMQ_RE_LO_CU15  PRMQ_PR_SH_CU16  \\\n",
              "0                  2                 4                4                4   \n",
              "\n",
              "  CONDITION  \n",
              "0         H  "
            ],
            "text/html": [
              "\n",
              "  <div id=\"df-d23d7457-9d92-419e-bfcf-f403f80a4496\">\n",
              "    <div class=\"colab-df-container\">\n",
              "      <div>\n",
              "<style scoped>\n",
              "    .dataframe tbody tr th:only-of-type {\n",
              "        vertical-align: middle;\n",
              "    }\n",
              "\n",
              "    .dataframe tbody tr th {\n",
              "        vertical-align: top;\n",
              "    }\n",
              "\n",
              "    .dataframe thead th {\n",
              "        text-align: right;\n",
              "    }\n",
              "</style>\n",
              "<table border=\"1\" class=\"dataframe\">\n",
              "  <thead>\n",
              "    <tr style=\"text-align: right;\">\n",
              "      <th></th>\n",
              "      <th>PRMQ_PR_SH_CU1</th>\n",
              "      <th>PRMQ_RE _LO_ENV2</th>\n",
              "      <th>PRMQ_PR_SH_ENV3</th>\n",
              "      <th>PRMQ_RE_SH_CU4</th>\n",
              "      <th>PRMQ_PR_LO_CU5</th>\n",
              "      <th>PRMQ_RE_SH_ENV6</th>\n",
              "      <th>PRMQ_PR_LO_ENV7</th>\n",
              "      <th>PRMQ_RE_LO_CU8</th>\n",
              "      <th>PRMQ_RE_LO_ENV9</th>\n",
              "      <th>PRMQ_PR_SH_ENV10</th>\n",
              "      <th>PRMQ _RE_SH_CU11</th>\n",
              "      <th>PRMQ_PR_LO_ENV12</th>\n",
              "      <th>PRMQ _RE_SH_ENV13</th>\n",
              "      <th>PRMQ _PR_LO_CU14</th>\n",
              "      <th>PRMQ_RE_LO_CU15</th>\n",
              "      <th>PRMQ_PR_SH_CU16</th>\n",
              "      <th>CONDITION</th>\n",
              "    </tr>\n",
              "  </thead>\n",
              "  <tbody>\n",
              "    <tr>\n",
              "      <th>0</th>\n",
              "      <td>4</td>\n",
              "      <td>3</td>\n",
              "      <td>2</td>\n",
              "      <td>4</td>\n",
              "      <td>4</td>\n",
              "      <td>2</td>\n",
              "      <td>3</td>\n",
              "      <td>2</td>\n",
              "      <td>3</td>\n",
              "      <td>3</td>\n",
              "      <td>4</td>\n",
              "      <td>4</td>\n",
              "      <td>2</td>\n",
              "      <td>4</td>\n",
              "      <td>4</td>\n",
              "      <td>4</td>\n",
              "      <td>H</td>\n",
              "    </tr>\n",
              "  </tbody>\n",
              "</table>\n",
              "</div>\n",
              "      <button class=\"colab-df-convert\" onclick=\"convertToInteractive('df-d23d7457-9d92-419e-bfcf-f403f80a4496')\"\n",
              "              title=\"Convert this dataframe to an interactive table.\"\n",
              "              style=\"display:none;\">\n",
              "        \n",
              "  <svg xmlns=\"http://www.w3.org/2000/svg\" height=\"24px\"viewBox=\"0 0 24 24\"\n",
              "       width=\"24px\">\n",
              "    <path d=\"M0 0h24v24H0V0z\" fill=\"none\"/>\n",
              "    <path d=\"M18.56 5.44l.94 2.06.94-2.06 2.06-.94-2.06-.94-.94-2.06-.94 2.06-2.06.94zm-11 1L8.5 8.5l.94-2.06 2.06-.94-2.06-.94L8.5 2.5l-.94 2.06-2.06.94zm10 10l.94 2.06.94-2.06 2.06-.94-2.06-.94-.94-2.06-.94 2.06-2.06.94z\"/><path d=\"M17.41 7.96l-1.37-1.37c-.4-.4-.92-.59-1.43-.59-.52 0-1.04.2-1.43.59L10.3 9.45l-7.72 7.72c-.78.78-.78 2.05 0 2.83L4 21.41c.39.39.9.59 1.41.59.51 0 1.02-.2 1.41-.59l7.78-7.78 2.81-2.81c.8-.78.8-2.07 0-2.86zM5.41 20L4 18.59l7.72-7.72 1.47 1.35L5.41 20z\"/>\n",
              "  </svg>\n",
              "      </button>\n",
              "      \n",
              "  <style>\n",
              "    .colab-df-container {\n",
              "      display:flex;\n",
              "      flex-wrap:wrap;\n",
              "      gap: 12px;\n",
              "    }\n",
              "\n",
              "    .colab-df-convert {\n",
              "      background-color: #E8F0FE;\n",
              "      border: none;\n",
              "      border-radius: 50%;\n",
              "      cursor: pointer;\n",
              "      display: none;\n",
              "      fill: #1967D2;\n",
              "      height: 32px;\n",
              "      padding: 0 0 0 0;\n",
              "      width: 32px;\n",
              "    }\n",
              "\n",
              "    .colab-df-convert:hover {\n",
              "      background-color: #E2EBFA;\n",
              "      box-shadow: 0px 1px 2px rgba(60, 64, 67, 0.3), 0px 1px 3px 1px rgba(60, 64, 67, 0.15);\n",
              "      fill: #174EA6;\n",
              "    }\n",
              "\n",
              "    [theme=dark] .colab-df-convert {\n",
              "      background-color: #3B4455;\n",
              "      fill: #D2E3FC;\n",
              "    }\n",
              "\n",
              "    [theme=dark] .colab-df-convert:hover {\n",
              "      background-color: #434B5C;\n",
              "      box-shadow: 0px 1px 3px 1px rgba(0, 0, 0, 0.15);\n",
              "      filter: drop-shadow(0px 1px 2px rgba(0, 0, 0, 0.3));\n",
              "      fill: #FFFFFF;\n",
              "    }\n",
              "  </style>\n",
              "\n",
              "      <script>\n",
              "        const buttonEl =\n",
              "          document.querySelector('#df-d23d7457-9d92-419e-bfcf-f403f80a4496 button.colab-df-convert');\n",
              "        buttonEl.style.display =\n",
              "          google.colab.kernel.accessAllowed ? 'block' : 'none';\n",
              "\n",
              "        async function convertToInteractive(key) {\n",
              "          const element = document.querySelector('#df-d23d7457-9d92-419e-bfcf-f403f80a4496');\n",
              "          const dataTable =\n",
              "            await google.colab.kernel.invokeFunction('convertToInteractive',\n",
              "                                                     [key], {});\n",
              "          if (!dataTable) return;\n",
              "\n",
              "          const docLinkHtml = 'Like what you see? Visit the ' +\n",
              "            '<a target=\"_blank\" href=https://colab.research.google.com/notebooks/data_table.ipynb>data table notebook</a>'\n",
              "            + ' to learn more about interactive tables.';\n",
              "          element.innerHTML = '';\n",
              "          dataTable['output_type'] = 'display_data';\n",
              "          await google.colab.output.renderOutput(dataTable, element);\n",
              "          const docLink = document.createElement('div');\n",
              "          docLink.innerHTML = docLinkHtml;\n",
              "          element.appendChild(docLink);\n",
              "        }\n",
              "      </script>\n",
              "    </div>\n",
              "  </div>\n",
              "  "
            ]
          },
          "metadata": {},
          "execution_count": 11
        }
      ]
    },
    {
      "cell_type": "markdown",
      "source": [
        "## Quick look and check the data"
      ],
      "metadata": {
        "id": "gOuGR9v6BFSr"
      }
    },
    {
      "cell_type": "markdown",
      "source": [
        "### Data clean check"
      ],
      "metadata": {
        "id": "cXVFAoS4BTM2"
      }
    },
    {
      "cell_type": "code",
      "source": [
        "check_data(dataset)"
      ],
      "metadata": {
        "id": "6wV7M0yxBHbX"
      },
      "execution_count": 14,
      "outputs": []
    },
    {
      "cell_type": "markdown",
      "source": [
        "### Class balance"
      ],
      "metadata": {
        "id": "XVedqDojBVdE"
      }
    },
    {
      "cell_type": "code",
      "source": [
        "dataset['CONDITION'].hist()\n",
        "\n",
        "assert len(dataset.loc[dataset['CONDITION'] == 'H', :]) \\\n",
        "    == len(dataset.loc[dataset['CONDITION'] == 'D', :])"
      ],
      "metadata": {
        "id": "aBnGE_NOBXEz",
        "outputId": "bb29558b-3f71-45a2-c813-62ffbe400482",
        "colab": {
          "base_uri": "https://localhost:8080/",
          "height": 265
        }
      },
      "execution_count": 16,
      "outputs": [
        {
          "output_type": "display_data",
          "data": {
            "text/plain": [
              "<Figure size 432x288 with 1 Axes>"
            ],
            "image/png": "[encoded data removed]"
          },
          "metadata": {
            "needs_background": "light"
          }
        }
      ]
    },
    {
      "cell_type": "markdown",
      "source": [
        "## Create trainval + test + psychological sets"
      ],
      "metadata": {
        "id": "d6dhMNEdBlvg"
      }
    },
    {
      "cell_type": "markdown",
      "source": [
        "### Data samplping for the model"
      ],
      "metadata": {
        "id": "nyCuPDDeE1gF"
      }
    },
    {
      "cell_type": "code",
      "source": [
        "from sklearn.model_selection import train_test_split\n",
        "\n",
        "\n",
        "df_trainval, df_test = train_test_split(\n",
        "    dataset,\n",
        "    random_state=RANDOM_STATE,\n",
        "    train_size=TRAINVAL_SIZE,\n",
        "    stratify=dataset['CONDITION']\n",
        ")\n",
        "\n",
        "check_split_correctness(df_trainval, 'CONDITION', eps_=0.001)\n",
        "check_split_correctness(df_test, 'CONDITION', eps_=0.01)\n",
        "\n",
        "df_trainval.shape, df_test.shape"
      ],
      "metadata": {
        "id": "GLpedA3cBoaK",
        "outputId": "41f308ba-21fb-4dcd-d6d7-0bebea29e691",
        "colab": {
          "base_uri": "https://localhost:8080/"
        }
      },
      "execution_count": 40,
      "outputs": [
        {
          "output_type": "execute_result",
          "data": {
            "text/plain": [
              "((1123, 17), (281, 17))"
            ]
          },
          "metadata": {},
          "execution_count": 40
        }
      ]
    },
    {
      "cell_type": "code",
      "source": [
        "df_train, df_validation = train_test_split(\n",
        "    df_trainval,\n",
        "    train_size=TRAIN_SIZE,\n",
        "    random_state=RANDOM_STATE,\n",
        "    stratify=df_trainval['CONDITION']\n",
        ")\n",
        "\n",
        "\n",
        "check_split_correctness(df_train, 'CONDITION')\n",
        "check_split_correctness(df_validation, 'CONDITION')\n",
        "\n",
        "df_train.shape, df_validation.shape"
      ],
      "metadata": {
        "id": "94HKYz-nEdPJ",
        "outputId": "e84b627b-1c95-4e34-d76f-d2081b1c6bb8",
        "colab": {
          "base_uri": "https://localhost:8080/"
        }
      },
      "execution_count": 46,
      "outputs": [
        {
          "output_type": "execute_result",
          "data": {
            "text/plain": [
              "((898, 17), (225, 17))"
            ]
          },
          "metadata": {},
          "execution_count": 46
        }
      ]
    },
    {
      "cell_type": "markdown",
      "source": [
        "### Data sampling for psychological insights"
      ],
      "metadata": {
        "id": "XSFlgx7UE4Qh"
      }
    },
    {
      "cell_type": "code",
      "source": [
        "df_sample = prepare_sample(\n",
        "    dataset,\n",
        "    sample_size_=PSYCHOLOGIC_SAMPLE_SIZE,\n",
        "    random_state_=RANDOM_STATE\n",
        ")\n",
        "\n",
        "verify_sample_correctness(dataset, df_sample)\n",
        "df_sample.head()"
      ],
      "metadata": {
        "id": "xOP9DmSRE6Y9",
        "outputId": "28fd69f3-1940-4798-9b1f-6a9a28304f1e",
        "colab": {
          "base_uri": "https://localhost:8080/",
          "height": 287
        }
      },
      "execution_count": 57,
      "outputs": [
        {
          "output_type": "execute_result",
          "data": {
            "text/plain": [
              "     PRMQ_PR_SH_CU1  PRMQ_RE _LO_ENV2   PRMQ_PR_SH_ENV3  PRMQ_RE_SH_CU4  \\\n",
              "493               5                 2                 3               3   \n",
              "164               2                 2                 2               2   \n",
              "54                3                 1                 3               3   \n",
              "641               1                 3                 1               1   \n",
              "607               1                 2                 1               1   \n",
              "\n",
              "     PRMQ_PR_LO_CU5  PRMQ_RE_SH_ENV6  PRMQ_PR_LO_ENV7  PRMQ_RE_LO_CU8  \\\n",
              "493               1                5                4               5   \n",
              "164               2                2                3               3   \n",
              "54                4                1                4               2   \n",
              "641               1                1                1               1   \n",
              "607               3                4                1               1   \n",
              "\n",
              "     PRMQ_RE_LO_ENV9  PRMQ_PR_SH_ENV10  PRMQ _RE_SH_CU11  PRMQ_PR_LO_ENV12  \\\n",
              "493                3                 5                 4                 3   \n",
              "164                2                 2                 2                 2   \n",
              "54                 2                 2                 2                 3   \n",
              "641                2                 1                 2                 2   \n",
              "607                2                 2                 2                 2   \n",
              "\n",
              "     PRMQ _RE_SH_ENV13  PRMQ _PR_LO_CU14  PRMQ_RE_LO_CU15  PRMQ_PR_SH_CU16  \\\n",
              "493                  1                 3                3                5   \n",
              "164                  1                 2                1                2   \n",
              "54                   1                 5                1                4   \n",
              "641                  1                 1                1                1   \n",
              "607                  1                 2                1                1   \n",
              "\n",
              "    CONDITION  \n",
              "493         H  \n",
              "164         H  \n",
              "54          H  \n",
              "641         H  \n",
              "607         H  "
            ],
            "text/html": [
              "\n",
              "  <div id=\"df-1115296a-e835-457c-a783-c0400993b3de\">\n",
              "    <div class=\"colab-df-container\">\n",
              "      <div>\n",
              "<style scoped>\n",
              "    .dataframe tbody tr th:only-of-type {\n",
              "        vertical-align: middle;\n",
              "    }\n",
              "\n",
              "    .dataframe tbody tr th {\n",
              "        vertical-align: top;\n",
              "    }\n",
              "\n",
              "    .dataframe thead th {\n",
              "        text-align: right;\n",
              "    }\n",
              "</style>\n",
              "<table border=\"1\" class=\"dataframe\">\n",
              "  <thead>\n",
              "    <tr style=\"text-align: right;\">\n",
              "      <th></th>\n",
              "      <th>PRMQ_PR_SH_CU1</th>\n",
              "      <th>PRMQ_RE _LO_ENV2</th>\n",
              "      <th>PRMQ_PR_SH_ENV3</th>\n",
              "      <th>PRMQ_RE_SH_CU4</th>\n",
              "      <th>PRMQ_PR_LO_CU5</th>\n",
              "      <th>PRMQ_RE_SH_ENV6</th>\n",
              "      <th>PRMQ_PR_LO_ENV7</th>\n",
              "      <th>PRMQ_RE_LO_CU8</th>\n",
              "      <th>PRMQ_RE_LO_ENV9</th>\n",
              "      <th>PRMQ_PR_SH_ENV10</th>\n",
              "      <th>PRMQ _RE_SH_CU11</th>\n",
              "      <th>PRMQ_PR_LO_ENV12</th>\n",
              "      <th>PRMQ _RE_SH_ENV13</th>\n",
              "      <th>PRMQ _PR_LO_CU14</th>\n",
              "      <th>PRMQ_RE_LO_CU15</th>\n",
              "      <th>PRMQ_PR_SH_CU16</th>\n",
              "      <th>CONDITION</th>\n",
              "    </tr>\n",
              "  </thead>\n",
              "  <tbody>\n",
              "    <tr>\n",
              "      <th>493</th>\n",
              "      <td>5</td>\n",
              "      <td>2</td>\n",
              "      <td>3</td>\n",
              "      <td>3</td>\n",
              "      <td>1</td>\n",
              "      <td>5</td>\n",
              "      <td>4</td>\n",
              "      <td>5</td>\n",
              "      <td>3</td>\n",
              "      <td>5</td>\n",
              "      <td>4</td>\n",
              "      <td>3</td>\n",
              "      <td>1</td>\n",
              "      <td>3</td>\n",
              "      <td>3</td>\n",
              "      <td>5</td>\n",
              "      <td>H</td>\n",
              "    </tr>\n",
              "    <tr>\n",
              "      <th>164</th>\n",
              "      <td>2</td>\n",
              "      <td>2</td>\n",
              "      <td>2</td>\n",
              "      <td>2</td>\n",
              "      <td>2</td>\n",
              "      <td>2</td>\n",
              "      <td>3</td>\n",
              "      <td>3</td>\n",
              "      <td>2</td>\n",
              "      <td>2</td>\n",
              "      <td>2</td>\n",
              "      <td>2</td>\n",
              "      <td>1</td>\n",
              "      <td>2</td>\n",
              "      <td>1</td>\n",
              "      <td>2</td>\n",
              "      <td>H</td>\n",
              "    </tr>\n",
              "    <tr>\n",
              "      <th>54</th>\n",
              "      <td>3</td>\n",
              "      <td>1</td>\n",
              "      <td>3</td>\n",
              "      <td>3</td>\n",
              "      <td>4</td>\n",
              "      <td>1</td>\n",
              "      <td>4</td>\n",
              "      <td>2</td>\n",
              "      <td>2</td>\n",
              "      <td>2</td>\n",
              "      <td>2</td>\n",
              "      <td>3</td>\n",
              "      <td>1</td>\n",
              "      <td>5</td>\n",
              "      <td>1</td>\n",
              "      <td>4</td>\n",
              "      <td>H</td>\n",
              "    </tr>\n",
              "    <tr>\n",
              "      <th>641</th>\n",
              "      <td>1</td>\n",
              "      <td>3</td>\n",
              "      <td>1</td>\n",
              "      <td>1</td>\n",
              "      <td>1</td>\n",
              "      <td>1</td>\n",
              "      <td>1</td>\n",
              "      <td>1</td>\n",
              "      <td>2</td>\n",
              "      <td>1</td>\n",
              "      <td>2</td>\n",
              "      <td>2</td>\n",
              "      <td>1</td>\n",
              "      <td>1</td>\n",
              "      <td>1</td>\n",
              "      <td>1</td>\n",
              "      <td>H</td>\n",
              "    </tr>\n",
              "    <tr>\n",
              "      <th>607</th>\n",
              "      <td>1</td>\n",
              "      <td>2</td>\n",
              "      <td>1</td>\n",
              "      <td>1</td>\n",
              "      <td>3</td>\n",
              "      <td>4</td>\n",
              "      <td>1</td>\n",
              "      <td>1</td>\n",
              "      <td>2</td>\n",
              "      <td>2</td>\n",
              "      <td>2</td>\n",
              "      <td>2</td>\n",
              "      <td>1</td>\n",
              "      <td>2</td>\n",
              "      <td>1</td>\n",
              "      <td>1</td>\n",
              "      <td>H</td>\n",
              "    </tr>\n",
              "  </tbody>\n",
              "</table>\n",
              "</div>\n",
              "      <button class=\"colab-df-convert\" onclick=\"convertToInteractive('df-1115296a-e835-457c-a783-c0400993b3de')\"\n",
              "              title=\"Convert this dataframe to an interactive table.\"\n",
              "              style=\"display:none;\">\n",
              "        \n",
              "  <svg xmlns=\"http://www.w3.org/2000/svg\" height=\"24px\"viewBox=\"0 0 24 24\"\n",
              "       width=\"24px\">\n",
              "    <path d=\"M0 0h24v24H0V0z\" fill=\"none\"/>\n",
              "    <path d=\"M18.56 5.44l.94 2.06.94-2.06 2.06-.94-2.06-.94-.94-2.06-.94 2.06-2.06.94zm-11 1L8.5 8.5l.94-2.06 2.06-.94-2.06-.94L8.5 2.5l-.94 2.06-2.06.94zm10 10l.94 2.06.94-2.06 2.06-.94-2.06-.94-.94-2.06-.94 2.06-2.06.94z\"/><path d=\"M17.41 7.96l-1.37-1.37c-.4-.4-.92-.59-1.43-.59-.52 0-1.04.2-1.43.59L10.3 9.45l-7.72 7.72c-.78.78-.78 2.05 0 2.83L4 21.41c.39.39.9.59 1.41.59.51 0 1.02-.2 1.41-.59l7.78-7.78 2.81-2.81c.8-.78.8-2.07 0-2.86zM5.41 20L4 18.59l7.72-7.72 1.47 1.35L5.41 20z\"/>\n",
              "  </svg>\n",
              "      </button>\n",
              "      \n",
              "  <style>\n",
              "    .colab-df-container {\n",
              "      display:flex;\n",
              "      flex-wrap:wrap;\n",
              "      gap: 12px;\n",
              "    }\n",
              "\n",
              "    .colab-df-convert {\n",
              "      background-color: #E8F0FE;\n",
              "      border: none;\n",
              "      border-radius: 50%;\n",
              "      cursor: pointer;\n",
              "      display: none;\n",
              "      fill: #1967D2;\n",
              "      height: 32px;\n",
              "      padding: 0 0 0 0;\n",
              "      width: 32px;\n",
              "    }\n",
              "\n",
              "    .colab-df-convert:hover {\n",
              "      background-color: #E2EBFA;\n",
              "      box-shadow: 0px 1px 2px rgba(60, 64, 67, 0.3), 0px 1px 3px 1px rgba(60, 64, 67, 0.15);\n",
              "      fill: #174EA6;\n",
              "    }\n",
              "\n",
              "    [theme=dark] .colab-df-convert {\n",
              "      background-color: #3B4455;\n",
              "      fill: #D2E3FC;\n",
              "    }\n",
              "\n",
              "    [theme=dark] .colab-df-convert:hover {\n",
              "      background-color: #434B5C;\n",
              "      box-shadow: 0px 1px 3px 1px rgba(0, 0, 0, 0.15);\n",
              "      filter: drop-shadow(0px 1px 2px rgba(0, 0, 0, 0.3));\n",
              "      fill: #FFFFFF;\n",
              "    }\n",
              "  </style>\n",
              "\n",
              "      <script>\n",
              "        const buttonEl =\n",
              "          document.querySelector('#df-1115296a-e835-457c-a783-c0400993b3de button.colab-df-convert');\n",
              "        buttonEl.style.display =\n",
              "          google.colab.kernel.accessAllowed ? 'block' : 'none';\n",
              "\n",
              "        async function convertToInteractive(key) {\n",
              "          const element = document.querySelector('#df-1115296a-e835-457c-a783-c0400993b3de');\n",
              "          const dataTable =\n",
              "            await google.colab.kernel.invokeFunction('convertToInteractive',\n",
              "                                                     [key], {});\n",
              "          if (!dataTable) return;\n",
              "\n",
              "          const docLinkHtml = 'Like what you see? Visit the ' +\n",
              "            '<a target=\"_blank\" href=https://colab.research.google.com/notebooks/data_table.ipynb>data table notebook</a>'\n",
              "            + ' to learn more about interactive tables.';\n",
              "          element.innerHTML = '';\n",
              "          dataTable['output_type'] = 'display_data';\n",
              "          await google.colab.output.renderOutput(dataTable, element);\n",
              "          const docLink = document.createElement('div');\n",
              "          docLink.innerHTML = docLinkHtml;\n",
              "          element.appendChild(docLink);\n",
              "        }\n",
              "      </script>\n",
              "    </div>\n",
              "  </div>\n",
              "  "
            ]
          },
          "metadata": {},
          "execution_count": 57
        }
      ]
    },
    {
      "cell_type": "markdown",
      "source": [
        "## Data exploration (on train set only)"
      ],
      "metadata": {
        "id": "AY2evTkBHEmB"
      }
    },
    {
      "cell_type": "code",
      "source": [
        "mean_responses = plot_averaged_question_responses(df_train)"
      ],
      "metadata": {
        "id": "xtGMdkmxI9DT",
        "outputId": "29c071da-d70a-4f0e-a746-5d3a6081f99e",
        "colab": {
          "base_uri": "https://localhost:8080/",
          "height": 394
        }
      },
      "execution_count": 70,
      "outputs": [
        {
          "output_type": "display_data",
          "data": {
            "text/plain": [
              "<Figure size 432x288 with 1 Axes>"
            ],
            "image/png": "[encoded data removed]"
          },
          "metadata": {
            "needs_background": "light"
          }
        }
      ]
    },
    {
      "cell_type": "code",
      "source": [
        "mean_responses"
      ],
      "metadata": {
        "id": "_UreYf_1JRas",
        "outputId": "700f915e-2ab7-4957-a1a1-dde4b39a25c0",
        "colab": {
          "base_uri": "https://localhost:8080/",
          "height": 551
        }
      },
      "execution_count": 71,
      "outputs": [
        {
          "output_type": "execute_result",
          "data": {
            "text/plain": [
              "                     honest  dishonest  relative_delta\n",
              "PRMQ_PR_SH_CU1     2.697105   4.042316        0.498761\n",
              "PRMQ_RE _LO_ENV2   1.732739   4.097996        1.365039\n",
              " PRMQ_PR_SH_ENV3   2.305122   4.051225        0.757488\n",
              "PRMQ_RE_SH_CU4     2.650334   4.111359        0.551261\n",
              "PRMQ_PR_LO_CU5     2.427617   4.126949        0.700000\n",
              "PRMQ_RE_SH_ENV6    2.044543   3.997773        0.955338\n",
              "PRMQ_PR_LO_ENV7    2.489978   4.006682        0.609123\n",
              "PRMQ_RE_LO_CU8     2.122494   4.129176        0.945435\n",
              "PRMQ_RE_LO_ENV9    2.761693   3.995546        0.446774\n",
              "PRMQ_PR_SH_ENV10   2.890869   3.982183        0.377504\n",
              "PRMQ _RE_SH_CU11   2.997773   4.002227        0.335067\n",
              "PRMQ_PR_LO_ENV12   2.505568   3.964365        0.582222\n",
              "PRMQ _RE_SH_ENV13  2.008909   3.993318        0.987805\n",
              "PRMQ _PR_LO_CU14   2.550111   3.966592        0.555459\n",
              "PRMQ_RE_LO_CU15    2.242762   4.044543        0.803376\n",
              "PRMQ_PR_SH_CU16    2.759465   4.046771        0.466505"
            ],
            "text/html": [
              "\n",
              "  <div id=\"df-144fe934-e3a3-4bd8-bec3-34c935ecb17f\">\n",
              "    <div class=\"colab-df-container\">\n",
              "      <div>\n",
              "<style scoped>\n",
              "    .dataframe tbody tr th:only-of-type {\n",
              "        vertical-align: middle;\n",
              "    }\n",
              "\n",
              "    .dataframe tbody tr th {\n",
              "        vertical-align: top;\n",
              "    }\n",
              "\n",
              "    .dataframe thead th {\n",
              "        text-align: right;\n",
              "    }\n",
              "</style>\n",
              "<table border=\"1\" class=\"dataframe\">\n",
              "  <thead>\n",
              "    <tr style=\"text-align: right;\">\n",
              "      <th></th>\n",
              "      <th>honest</th>\n",
              "      <th>dishonest</th>\n",
              "      <th>relative_delta</th>\n",
              "    </tr>\n",
              "  </thead>\n",
              "  <tbody>\n",
              "    <tr>\n",
              "      <th>PRMQ_PR_SH_CU1</th>\n",
              "      <td>2.697105</td>\n",
              "      <td>4.042316</td>\n",
              "      <td>0.498761</td>\n",
              "    </tr>\n",
              "    <tr>\n",
              "      <th>PRMQ_RE _LO_ENV2</th>\n",
              "      <td>1.732739</td>\n",
              "      <td>4.097996</td>\n",
              "      <td>1.365039</td>\n",
              "    </tr>\n",
              "    <tr>\n",
              "      <th>PRMQ_PR_SH_ENV3</th>\n",
              "      <td>2.305122</td>\n",
              "      <td>4.051225</td>\n",
              "      <td>0.757488</td>\n",
              "    </tr>\n",
              "    <tr>\n",
              "      <th>PRMQ_RE_SH_CU4</th>\n",
              "      <td>2.650334</td>\n",
              "      <td>4.111359</td>\n",
              "      <td>0.551261</td>\n",
              "    </tr>\n",
              "    <tr>\n",
              "      <th>PRMQ_PR_LO_CU5</th>\n",
              "      <td>2.427617</td>\n",
              "      <td>4.126949</td>\n",
              "      <td>0.700000</td>\n",
              "    </tr>\n",
              "    <tr>\n",
              "      <th>PRMQ_RE_SH_ENV6</th>\n",
              "      <td>2.044543</td>\n",
              "      <td>3.997773</td>\n",
              "      <td>0.955338</td>\n",
              "    </tr>\n",
              "    <tr>\n",
              "      <th>PRMQ_PR_LO_ENV7</th>\n",
              "      <td>2.489978</td>\n",
              "      <td>4.006682</td>\n",
              "      <td>0.609123</td>\n",
              "    </tr>\n",
              "    <tr>\n",
              "      <th>PRMQ_RE_LO_CU8</th>\n",
              "      <td>2.122494</td>\n",
              "      <td>4.129176</td>\n",
              "      <td>0.945435</td>\n",
              "    </tr>\n",
              "    <tr>\n",
              "      <th>PRMQ_RE_LO_ENV9</th>\n",
              "      <td>2.761693</td>\n",
              "      <td>3.995546</td>\n",
              "      <td>0.446774</td>\n",
              "    </tr>\n",
              "    <tr>\n",
              "      <th>PRMQ_PR_SH_ENV10</th>\n",
              "      <td>2.890869</td>\n",
              "      <td>3.982183</td>\n",
              "      <td>0.377504</td>\n",
              "    </tr>\n",
              "    <tr>\n",
              "      <th>PRMQ _RE_SH_CU11</th>\n",
              "      <td>2.997773</td>\n",
              "      <td>4.002227</td>\n",
              "      <td>0.335067</td>\n",
              "    </tr>\n",
              "    <tr>\n",
              "      <th>PRMQ_PR_LO_ENV12</th>\n",
              "      <td>2.505568</td>\n",
              "      <td>3.964365</td>\n",
              "      <td>0.582222</td>\n",
              "    </tr>\n",
              "    <tr>\n",
              "      <th>PRMQ _RE_SH_ENV13</th>\n",
              "      <td>2.008909</td>\n",
              "      <td>3.993318</td>\n",
              "      <td>0.987805</td>\n",
              "    </tr>\n",
              "    <tr>\n",
              "      <th>PRMQ _PR_LO_CU14</th>\n",
              "      <td>2.550111</td>\n",
              "      <td>3.966592</td>\n",
              "      <td>0.555459</td>\n",
              "    </tr>\n",
              "    <tr>\n",
              "      <th>PRMQ_RE_LO_CU15</th>\n",
              "      <td>2.242762</td>\n",
              "      <td>4.044543</td>\n",
              "      <td>0.803376</td>\n",
              "    </tr>\n",
              "    <tr>\n",
              "      <th>PRMQ_PR_SH_CU16</th>\n",
              "      <td>2.759465</td>\n",
              "      <td>4.046771</td>\n",
              "      <td>0.466505</td>\n",
              "    </tr>\n",
              "  </tbody>\n",
              "</table>\n",
              "</div>\n",
              "      <button class=\"colab-df-convert\" onclick=\"convertToInteractive('df-144fe934-e3a3-4bd8-bec3-34c935ecb17f')\"\n",
              "              title=\"Convert this dataframe to an interactive table.\"\n",
              "              style=\"display:none;\">\n",
              "        \n",
              "  <svg xmlns=\"http://www.w3.org/2000/svg\" height=\"24px\"viewBox=\"0 0 24 24\"\n",
              "       width=\"24px\">\n",
              "    <path d=\"M0 0h24v24H0V0z\" fill=\"none\"/>\n",
              "    <path d=\"M18.56 5.44l.94 2.06.94-2.06 2.06-.94-2.06-.94-.94-2.06-.94 2.06-2.06.94zm-11 1L8.5 8.5l.94-2.06 2.06-.94-2.06-.94L8.5 2.5l-.94 2.06-2.06.94zm10 10l.94 2.06.94-2.06 2.06-.94-2.06-.94-.94-2.06-.94 2.06-2.06.94z\"/><path d=\"M17.41 7.96l-1.37-1.37c-.4-.4-.92-.59-1.43-.59-.52 0-1.04.2-1.43.59L10.3 9.45l-7.72 7.72c-.78.78-.78 2.05 0 2.83L4 21.41c.39.39.9.59 1.41.59.51 0 1.02-.2 1.41-.59l7.78-7.78 2.81-2.81c.8-.78.8-2.07 0-2.86zM5.41 20L4 18.59l7.72-7.72 1.47 1.35L5.41 20z\"/>\n",
              "  </svg>\n",
              "      </button>\n",
              "      \n",
              "  <style>\n",
              "    .colab-df-container {\n",
              "      display:flex;\n",
              "      flex-wrap:wrap;\n",
              "      gap: 12px;\n",
              "    }\n",
              "\n",
              "    .colab-df-convert {\n",
              "      background-color: #E8F0FE;\n",
              "      border: none;\n",
              "      border-radius: 50%;\n",
              "      cursor: pointer;\n",
              "      display: none;\n",
              "      fill: #1967D2;\n",
              "      height: 32px;\n",
              "      padding: 0 0 0 0;\n",
              "      width: 32px;\n",
              "    }\n",
              "\n",
              "    .colab-df-convert:hover {\n",
              "      background-color: #E2EBFA;\n",
              "      box-shadow: 0px 1px 2px rgba(60, 64, 67, 0.3), 0px 1px 3px 1px rgba(60, 64, 67, 0.15);\n",
              "      fill: #174EA6;\n",
              "    }\n",
              "\n",
              "    [theme=dark] .colab-df-convert {\n",
              "      background-color: #3B4455;\n",
              "      fill: #D2E3FC;\n",
              "    }\n",
              "\n",
              "    [theme=dark] .colab-df-convert:hover {\n",
              "      background-color: #434B5C;\n",
              "      box-shadow: 0px 1px 3px 1px rgba(0, 0, 0, 0.15);\n",
              "      filter: drop-shadow(0px 1px 2px rgba(0, 0, 0, 0.3));\n",
              "      fill: #FFFFFF;\n",
              "    }\n",
              "  </style>\n",
              "\n",
              "      <script>\n",
              "        const buttonEl =\n",
              "          document.querySelector('#df-144fe934-e3a3-4bd8-bec3-34c935ecb17f button.colab-df-convert');\n",
              "        buttonEl.style.display =\n",
              "          google.colab.kernel.accessAllowed ? 'block' : 'none';\n",
              "\n",
              "        async function convertToInteractive(key) {\n",
              "          const element = document.querySelector('#df-144fe934-e3a3-4bd8-bec3-34c935ecb17f');\n",
              "          const dataTable =\n",
              "            await google.colab.kernel.invokeFunction('convertToInteractive',\n",
              "                                                     [key], {});\n",
              "          if (!dataTable) return;\n",
              "\n",
              "          const docLinkHtml = 'Like what you see? Visit the ' +\n",
              "            '<a target=\"_blank\" href=https://colab.research.google.com/notebooks/data_table.ipynb>data table notebook</a>'\n",
              "            + ' to learn more about interactive tables.';\n",
              "          element.innerHTML = '';\n",
              "          dataTable['output_type'] = 'display_data';\n",
              "          await google.colab.output.renderOutput(dataTable, element);\n",
              "          const docLink = document.createElement('div');\n",
              "          docLink.innerHTML = docLinkHtml;\n",
              "          element.appendChild(docLink);\n",
              "        }\n",
              "      </script>\n",
              "    </div>\n",
              "  </div>\n",
              "  "
            ]
          },
          "metadata": {},
          "execution_count": 71
        }
      ]
    },
    {
      "cell_type": "markdown",
      "source": [
        "# 5. PHQ9_GAD7"
      ],
      "metadata": {
        "id": "UG79thZSTuBb"
      }
    },
    {
      "cell_type": "markdown",
      "source": [
        "## Download the data"
      ],
      "metadata": {
        "id": "cLx_CYHGT0o9"
      }
    },
    {
      "cell_type": "code",
      "source": [
        "dataset = read_data(\n",
        "    datasets_folder_path,\n",
        "    '5. PHQ9_GAD7'\n",
        ")\n",
        "\n",
        "pep8(_ih)"
      ],
      "metadata": {
        "colab": {
          "base_uri": "https://localhost:8080/"
        },
        "id": "0nhHjdK4TxCb",
        "outputId": "f092d768-97a2-4a1e-bbe3-091fabe60590"
      },
      "execution_count": null,
      "outputs": [
        {
          "output_type": "stream",
          "name": "stdout",
          "text": [
            "\n"
          ]
        }
      ]
    },
    {
      "cell_type": "code",
      "source": [
        "dataset.head()"
      ],
      "metadata": {
        "colab": {
          "base_uri": "https://localhost:8080/"
        },
        "id": "_sYpixNwVLvr",
        "outputId": "4987436a-269d-436e-d98e-c3294f688b59"
      },
      "execution_count": null,
      "outputs": [
        {
          "output_type": "execute_result",
          "data": {
            "text/plain": [
              "   PHQ1  PHQ2  PHQ3  PHQ4  PHQ5  PHQ6  PHQ7  PHQ8  PHQ9  GAD1  GAD2  GAD3  \\\n",
              "0     3     1     1     3     1     1     2     1     2     2     3     2   \n",
              "1     2     1     3     3     1     1     3     1     5     3     3     3   \n",
              "2     3     2     2     3     4     3     2     2     2     3     2     3   \n",
              "3     2     2     4     3     2     4     1     4     4     2     4     4   \n",
              "4     2     2     5     2     4     3     4     2     4     3     2     5   \n",
              "\n",
              "   GAD4  GAD5  GAD6  GAD7 CONDITION  \n",
              "0     2     2     3     2         H  \n",
              "1     2     1     3     5         H  \n",
              "2     3     3     3     3         H  \n",
              "3     1     1     1     3         H  \n",
              "4     3     1     5     2         H  "
            ],
            "text/html": [
              "\n",
              "  <div id=\"df-8adb553f-3e65-416f-bb3f-49f9ecad72e6\">\n",
              "    <div class=\"colab-df-container\">\n",
              "      <div>\n",
              "<style scoped>\n",
              "    .dataframe tbody tr th:only-of-type {\n",
              "        vertical-align: middle;\n",
              "    }\n",
              "\n",
              "    .dataframe tbody tr th {\n",
              "        vertical-align: top;\n",
              "    }\n",
              "\n",
              "    .dataframe thead th {\n",
              "        text-align: right;\n",
              "    }\n",
              "</style>\n",
              "<table border=\"1\" class=\"dataframe\">\n",
              "  <thead>\n",
              "    <tr style=\"text-align: right;\">\n",
              "      <th></th>\n",
              "      <th>PHQ1</th>\n",
              "      <th>PHQ2</th>\n",
              "      <th>PHQ3</th>\n",
              "      <th>PHQ4</th>\n",
              "      <th>PHQ5</th>\n",
              "      <th>PHQ6</th>\n",
              "      <th>PHQ7</th>\n",
              "      <th>PHQ8</th>\n",
              "      <th>PHQ9</th>\n",
              "      <th>GAD1</th>\n",
              "      <th>GAD2</th>\n",
              "      <th>GAD3</th>\n",
              "      <th>GAD4</th>\n",
              "      <th>GAD5</th>\n",
              "      <th>GAD6</th>\n",
              "      <th>GAD7</th>\n",
              "      <th>CONDITION</th>\n",
              "    </tr>\n",
              "  </thead>\n",
              "  <tbody>\n",
              "    <tr>\n",
              "      <th>0</th>\n",
              "      <td>3</td>\n",
              "      <td>1</td>\n",
              "      <td>1</td>\n",
              "      <td>3</td>\n",
              "      <td>1</td>\n",
              "      <td>1</td>\n",
              "      <td>2</td>\n",
              "      <td>1</td>\n",
              "      <td>2</td>\n",
              "      <td>2</td>\n",
              "      <td>3</td>\n",
              "      <td>2</td>\n",
              "      <td>2</td>\n",
              "      <td>2</td>\n",
              "      <td>3</td>\n",
              "      <td>2</td>\n",
              "      <td>H</td>\n",
              "    </tr>\n",
              "    <tr>\n",
              "      <th>1</th>\n",
              "      <td>2</td>\n",
              "      <td>1</td>\n",
              "      <td>3</td>\n",
              "      <td>3</td>\n",
              "      <td>1</td>\n",
              "      <td>1</td>\n",
              "      <td>3</td>\n",
              "      <td>1</td>\n",
              "      <td>5</td>\n",
              "      <td>3</td>\n",
              "      <td>3</td>\n",
              "      <td>3</td>\n",
              "      <td>2</td>\n",
              "      <td>1</td>\n",
              "      <td>3</td>\n",
              "      <td>5</td>\n",
              "      <td>H</td>\n",
              "    </tr>\n",
              "    <tr>\n",
              "      <th>2</th>\n",
              "      <td>3</td>\n",
              "      <td>2</td>\n",
              "      <td>2</td>\n",
              "      <td>3</td>\n",
              "      <td>4</td>\n",
              "      <td>3</td>\n",
              "      <td>2</td>\n",
              "      <td>2</td>\n",
              "      <td>2</td>\n",
              "      <td>3</td>\n",
              "      <td>2</td>\n",
              "      <td>3</td>\n",
              "      <td>3</td>\n",
              "      <td>3</td>\n",
              "      <td>3</td>\n",
              "      <td>3</td>\n",
              "      <td>H</td>\n",
              "    </tr>\n",
              "    <tr>\n",
              "      <th>3</th>\n",
              "      <td>2</td>\n",
              "      <td>2</td>\n",
              "      <td>4</td>\n",
              "      <td>3</td>\n",
              "      <td>2</td>\n",
              "      <td>4</td>\n",
              "      <td>1</td>\n",
              "      <td>4</td>\n",
              "      <td>4</td>\n",
              "      <td>2</td>\n",
              "      <td>4</td>\n",
              "      <td>4</td>\n",
              "      <td>1</td>\n",
              "      <td>1</td>\n",
              "      <td>1</td>\n",
              "      <td>3</td>\n",
              "      <td>H</td>\n",
              "    </tr>\n",
              "    <tr>\n",
              "      <th>4</th>\n",
              "      <td>2</td>\n",
              "      <td>2</td>\n",
              "      <td>5</td>\n",
              "      <td>2</td>\n",
              "      <td>4</td>\n",
              "      <td>3</td>\n",
              "      <td>4</td>\n",
              "      <td>2</td>\n",
              "      <td>4</td>\n",
              "      <td>3</td>\n",
              "      <td>2</td>\n",
              "      <td>5</td>\n",
              "      <td>3</td>\n",
              "      <td>1</td>\n",
              "      <td>5</td>\n",
              "      <td>2</td>\n",
              "      <td>H</td>\n",
              "    </tr>\n",
              "  </tbody>\n",
              "</table>\n",
              "</div>\n",
              "      <button class=\"colab-df-convert\" onclick=\"convertToInteractive('df-8adb553f-3e65-416f-bb3f-49f9ecad72e6')\"\n",
              "              title=\"Convert this dataframe to an interactive table.\"\n",
              "              style=\"display:none;\">\n",
              "        \n",
              "  <svg xmlns=\"http://www.w3.org/2000/svg\" height=\"24px\"viewBox=\"0 0 24 24\"\n",
              "       width=\"24px\">\n",
              "    <path d=\"M0 0h24v24H0V0z\" fill=\"none\"/>\n",
              "    <path d=\"M18.56 5.44l.94 2.06.94-2.06 2.06-.94-2.06-.94-.94-2.06-.94 2.06-2.06.94zm-11 1L8.5 8.5l.94-2.06 2.06-.94-2.06-.94L8.5 2.5l-.94 2.06-2.06.94zm10 10l.94 2.06.94-2.06 2.06-.94-2.06-.94-.94-2.06-.94 2.06-2.06.94z\"/><path d=\"M17.41 7.96l-1.37-1.37c-.4-.4-.92-.59-1.43-.59-.52 0-1.04.2-1.43.59L10.3 9.45l-7.72 7.72c-.78.78-.78 2.05 0 2.83L4 21.41c.39.39.9.59 1.41.59.51 0 1.02-.2 1.41-.59l7.78-7.78 2.81-2.81c.8-.78.8-2.07 0-2.86zM5.41 20L4 18.59l7.72-7.72 1.47 1.35L5.41 20z\"/>\n",
              "  </svg>\n",
              "      </button>\n",
              "      \n",
              "  <style>\n",
              "    .colab-df-container {\n",
              "      display:flex;\n",
              "      flex-wrap:wrap;\n",
              "      gap: 12px;\n",
              "    }\n",
              "\n",
              "    .colab-df-convert {\n",
              "      background-color: #E8F0FE;\n",
              "      border: none;\n",
              "      border-radius: 50%;\n",
              "      cursor: pointer;\n",
              "      display: none;\n",
              "      fill: #1967D2;\n",
              "      height: 32px;\n",
              "      padding: 0 0 0 0;\n",
              "      width: 32px;\n",
              "    }\n",
              "\n",
              "    .colab-df-convert:hover {\n",
              "      background-color: #E2EBFA;\n",
              "      box-shadow: 0px 1px 2px rgba(60, 64, 67, 0.3), 0px 1px 3px 1px rgba(60, 64, 67, 0.15);\n",
              "      fill: #174EA6;\n",
              "    }\n",
              "\n",
              "    [theme=dark] .colab-df-convert {\n",
              "      background-color: #3B4455;\n",
              "      fill: #D2E3FC;\n",
              "    }\n",
              "\n",
              "    [theme=dark] .colab-df-convert:hover {\n",
              "      background-color: #434B5C;\n",
              "      box-shadow: 0px 1px 3px 1px rgba(0, 0, 0, 0.15);\n",
              "      filter: drop-shadow(0px 1px 2px rgba(0, 0, 0, 0.3));\n",
              "      fill: #FFFFFF;\n",
              "    }\n",
              "  </style>\n",
              "\n",
              "      <script>\n",
              "        const buttonEl =\n",
              "          document.querySelector('#df-8adb553f-3e65-416f-bb3f-49f9ecad72e6 button.colab-df-convert');\n",
              "        buttonEl.style.display =\n",
              "          google.colab.kernel.accessAllowed ? 'block' : 'none';\n",
              "\n",
              "        async function convertToInteractive(key) {\n",
              "          const element = document.querySelector('#df-8adb553f-3e65-416f-bb3f-49f9ecad72e6');\n",
              "          const dataTable =\n",
              "            await google.colab.kernel.invokeFunction('convertToInteractive',\n",
              "                                                     [key], {});\n",
              "          if (!dataTable) return;\n",
              "\n",
              "          const docLinkHtml = 'Like what you see? Visit the ' +\n",
              "            '<a target=\"_blank\" href=https://colab.research.google.com/notebooks/data_table.ipynb>data table notebook</a>'\n",
              "            + ' to learn more about interactive tables.';\n",
              "          element.innerHTML = '';\n",
              "          dataTable['output_type'] = 'display_data';\n",
              "          await google.colab.output.renderOutput(dataTable, element);\n",
              "          const docLink = document.createElement('div');\n",
              "          docLink.innerHTML = docLinkHtml;\n",
              "          element.appendChild(docLink);\n",
              "        }\n",
              "      </script>\n",
              "    </div>\n",
              "  </div>\n",
              "  "
            ]
          },
          "metadata": {},
          "execution_count": 10
        }
      ]
    },
    {
      "cell_type": "markdown",
      "source": [
        "## Quick look & check the data"
      ],
      "metadata": {
        "id": "UYL6gxVrVnuG"
      }
    },
    {
      "cell_type": "code",
      "source": [
        "dataset.describe()"
      ],
      "metadata": {
        "colab": {
          "base_uri": "https://localhost:8080/"
        },
        "id": "vJ0Fu5oQYsHs",
        "outputId": "4894439e-e62b-4d18-95da-ca899db59ec7"
      },
      "execution_count": null,
      "outputs": [
        {
          "output_type": "execute_result",
          "data": {
            "text/plain": [
              "              PHQ1         PHQ2         PHQ3         PHQ4         PHQ5  \\\n",
              "count  1118.000000  1118.000000  1118.000000  1118.000000  1118.000000   \n",
              "mean      3.252236     3.017889     3.538462     3.588551     3.313953   \n",
              "std       1.470348     1.662597     1.421741     1.329620     1.504634   \n",
              "min       1.000000     1.000000     1.000000     1.000000     1.000000   \n",
              "25%       2.000000     1.000000     2.000000     3.000000     2.000000   \n",
              "50%       3.000000     3.000000     4.000000     4.000000     4.000000   \n",
              "75%       5.000000     5.000000     5.000000     5.000000     5.000000   \n",
              "max       5.000000     5.000000     5.000000     5.000000     5.000000   \n",
              "\n",
              "              PHQ6         PHQ7         PHQ8         PHQ9         GAD1  \\\n",
              "count  1118.000000  1118.000000  1118.000000  1118.000000  1118.000000   \n",
              "mean      3.164580     2.967800     2.903399     3.265653     3.570662   \n",
              "std       1.584876     1.649948     1.652855     1.619626     1.387345   \n",
              "min       1.000000     1.000000     1.000000     1.000000     1.000000   \n",
              "25%       2.000000     1.000000     1.000000     1.000000     2.000000   \n",
              "50%       3.000000     3.000000     3.000000     4.000000     4.000000   \n",
              "75%       5.000000     5.000000     5.000000     5.000000     5.000000   \n",
              "max       5.000000     5.000000     5.000000     5.000000     5.000000   \n",
              "\n",
              "              GAD2         GAD3         GAD4         GAD5         GAD6  \\\n",
              "count  1118.000000  1118.000000  1118.000000  1118.000000  1118.000000   \n",
              "mean      3.722719     3.700358     3.118068     3.111807     3.445438   \n",
              "std       1.265209     1.271765     1.586767     1.552721     1.340830   \n",
              "min       1.000000     1.000000     1.000000     1.000000     1.000000   \n",
              "25%       3.000000     3.000000     1.000000     2.000000     2.000000   \n",
              "50%       4.000000     4.000000     3.000000     3.000000     4.000000   \n",
              "75%       5.000000     5.000000     5.000000     5.000000     5.000000   \n",
              "max       5.000000     5.000000     5.000000     5.000000     5.000000   \n",
              "\n",
              "              GAD7  \n",
              "count  1118.000000  \n",
              "mean      3.732558  \n",
              "std       1.353742  \n",
              "min       1.000000  \n",
              "25%       3.000000  \n",
              "50%       4.000000  \n",
              "75%       5.000000  \n",
              "max       5.000000  "
            ],
            "text/html": [
              "\n",
              "  <div id=\"df-54a18962-f387-4954-9ec8-0170b7fd42d7\">\n",
              "    <div class=\"colab-df-container\">\n",
              "      <div>\n",
              "<style scoped>\n",
              "    .dataframe tbody tr th:only-of-type {\n",
              "        vertical-align: middle;\n",
              "    }\n",
              "\n",
              "    .dataframe tbody tr th {\n",
              "        vertical-align: top;\n",
              "    }\n",
              "\n",
              "    .dataframe thead th {\n",
              "        text-align: right;\n",
              "    }\n",
              "</style>\n",
              "<table border=\"1\" class=\"dataframe\">\n",
              "  <thead>\n",
              "    <tr style=\"text-align: right;\">\n",
              "      <th></th>\n",
              "      <th>PHQ1</th>\n",
              "      <th>PHQ2</th>\n",
              "      <th>PHQ3</th>\n",
              "      <th>PHQ4</th>\n",
              "      <th>PHQ5</th>\n",
              "      <th>PHQ6</th>\n",
              "      <th>PHQ7</th>\n",
              "      <th>PHQ8</th>\n",
              "      <th>PHQ9</th>\n",
              "      <th>GAD1</th>\n",
              "      <th>GAD2</th>\n",
              "      <th>GAD3</th>\n",
              "      <th>GAD4</th>\n",
              "      <th>GAD5</th>\n",
              "      <th>GAD6</th>\n",
              "      <th>GAD7</th>\n",
              "    </tr>\n",
              "  </thead>\n",
              "  <tbody>\n",
              "    <tr>\n",
              "      <th>count</th>\n",
              "      <td>1118.000000</td>\n",
              "      <td>1118.000000</td>\n",
              "      <td>1118.000000</td>\n",
              "      <td>1118.000000</td>\n",
              "      <td>1118.000000</td>\n",
              "      <td>1118.000000</td>\n",
              "      <td>1118.000000</td>\n",
              "      <td>1118.000000</td>\n",
              "      <td>1118.000000</td>\n",
              "      <td>1118.000000</td>\n",
              "      <td>1118.000000</td>\n",
              "      <td>1118.000000</td>\n",
              "      <td>1118.000000</td>\n",
              "      <td>1118.000000</td>\n",
              "      <td>1118.000000</td>\n",
              "      <td>1118.000000</td>\n",
              "    </tr>\n",
              "    <tr>\n",
              "      <th>mean</th>\n",
              "      <td>3.252236</td>\n",
              "      <td>3.017889</td>\n",
              "      <td>3.538462</td>\n",
              "      <td>3.588551</td>\n",
              "      <td>3.313953</td>\n",
              "      <td>3.164580</td>\n",
              "      <td>2.967800</td>\n",
              "      <td>2.903399</td>\n",
              "      <td>3.265653</td>\n",
              "      <td>3.570662</td>\n",
              "      <td>3.722719</td>\n",
              "      <td>3.700358</td>\n",
              "      <td>3.118068</td>\n",
              "      <td>3.111807</td>\n",
              "      <td>3.445438</td>\n",
              "      <td>3.732558</td>\n",
              "    </tr>\n",
              "    <tr>\n",
              "      <th>std</th>\n",
              "      <td>1.470348</td>\n",
              "      <td>1.662597</td>\n",
              "      <td>1.421741</td>\n",
              "      <td>1.329620</td>\n",
              "      <td>1.504634</td>\n",
              "      <td>1.584876</td>\n",
              "      <td>1.649948</td>\n",
              "      <td>1.652855</td>\n",
              "      <td>1.619626</td>\n",
              "      <td>1.387345</td>\n",
              "      <td>1.265209</td>\n",
              "      <td>1.271765</td>\n",
              "      <td>1.586767</td>\n",
              "      <td>1.552721</td>\n",
              "      <td>1.340830</td>\n",
              "      <td>1.353742</td>\n",
              "    </tr>\n",
              "    <tr>\n",
              "      <th>min</th>\n",
              "      <td>1.000000</td>\n",
              "      <td>1.000000</td>\n",
              "      <td>1.000000</td>\n",
              "      <td>1.000000</td>\n",
              "      <td>1.000000</td>\n",
              "      <td>1.000000</td>\n",
              "      <td>1.000000</td>\n",
              "      <td>1.000000</td>\n",
              "      <td>1.000000</td>\n",
              "      <td>1.000000</td>\n",
              "      <td>1.000000</td>\n",
              "      <td>1.000000</td>\n",
              "      <td>1.000000</td>\n",
              "      <td>1.000000</td>\n",
              "      <td>1.000000</td>\n",
              "      <td>1.000000</td>\n",
              "    </tr>\n",
              "    <tr>\n",
              "      <th>25%</th>\n",
              "      <td>2.000000</td>\n",
              "      <td>1.000000</td>\n",
              "      <td>2.000000</td>\n",
              "      <td>3.000000</td>\n",
              "      <td>2.000000</td>\n",
              "      <td>2.000000</td>\n",
              "      <td>1.000000</td>\n",
              "      <td>1.000000</td>\n",
              "      <td>1.000000</td>\n",
              "      <td>2.000000</td>\n",
              "      <td>3.000000</td>\n",
              "      <td>3.000000</td>\n",
              "      <td>1.000000</td>\n",
              "      <td>2.000000</td>\n",
              "      <td>2.000000</td>\n",
              "      <td>3.000000</td>\n",
              "    </tr>\n",
              "    <tr>\n",
              "      <th>50%</th>\n",
              "      <td>3.000000</td>\n",
              "      <td>3.000000</td>\n",
              "      <td>4.000000</td>\n",
              "      <td>4.000000</td>\n",
              "      <td>4.000000</td>\n",
              "      <td>3.000000</td>\n",
              "      <td>3.000000</td>\n",
              "      <td>3.000000</td>\n",
              "      <td>4.000000</td>\n",
              "      <td>4.000000</td>\n",
              "      <td>4.000000</td>\n",
              "      <td>4.000000</td>\n",
              "      <td>3.000000</td>\n",
              "      <td>3.000000</td>\n",
              "      <td>4.000000</td>\n",
              "      <td>4.000000</td>\n",
              "    </tr>\n",
              "    <tr>\n",
              "      <th>75%</th>\n",
              "      <td>5.000000</td>\n",
              "      <td>5.000000</td>\n",
              "      <td>5.000000</td>\n",
              "      <td>5.000000</td>\n",
              "      <td>5.000000</td>\n",
              "      <td>5.000000</td>\n",
              "      <td>5.000000</td>\n",
              "      <td>5.000000</td>\n",
              "      <td>5.000000</td>\n",
              "      <td>5.000000</td>\n",
              "      <td>5.000000</td>\n",
              "      <td>5.000000</td>\n",
              "      <td>5.000000</td>\n",
              "      <td>5.000000</td>\n",
              "      <td>5.000000</td>\n",
              "      <td>5.000000</td>\n",
              "    </tr>\n",
              "    <tr>\n",
              "      <th>max</th>\n",
              "      <td>5.000000</td>\n",
              "      <td>5.000000</td>\n",
              "      <td>5.000000</td>\n",
              "      <td>5.000000</td>\n",
              "      <td>5.000000</td>\n",
              "      <td>5.000000</td>\n",
              "      <td>5.000000</td>\n",
              "      <td>5.000000</td>\n",
              "      <td>5.000000</td>\n",
              "      <td>5.000000</td>\n",
              "      <td>5.000000</td>\n",
              "      <td>5.000000</td>\n",
              "      <td>5.000000</td>\n",
              "      <td>5.000000</td>\n",
              "      <td>5.000000</td>\n",
              "      <td>5.000000</td>\n",
              "    </tr>\n",
              "  </tbody>\n",
              "</table>\n",
              "</div>\n",
              "      <button class=\"colab-df-convert\" onclick=\"convertToInteractive('df-54a18962-f387-4954-9ec8-0170b7fd42d7')\"\n",
              "              title=\"Convert this dataframe to an interactive table.\"\n",
              "              style=\"display:none;\">\n",
              "        \n",
              "  <svg xmlns=\"http://www.w3.org/2000/svg\" height=\"24px\"viewBox=\"0 0 24 24\"\n",
              "       width=\"24px\">\n",
              "    <path d=\"M0 0h24v24H0V0z\" fill=\"none\"/>\n",
              "    <path d=\"M18.56 5.44l.94 2.06.94-2.06 2.06-.94-2.06-.94-.94-2.06-.94 2.06-2.06.94zm-11 1L8.5 8.5l.94-2.06 2.06-.94-2.06-.94L8.5 2.5l-.94 2.06-2.06.94zm10 10l.94 2.06.94-2.06 2.06-.94-2.06-.94-.94-2.06-.94 2.06-2.06.94z\"/><path d=\"M17.41 7.96l-1.37-1.37c-.4-.4-.92-.59-1.43-.59-.52 0-1.04.2-1.43.59L10.3 9.45l-7.72 7.72c-.78.78-.78 2.05 0 2.83L4 21.41c.39.39.9.59 1.41.59.51 0 1.02-.2 1.41-.59l7.78-7.78 2.81-2.81c.8-.78.8-2.07 0-2.86zM5.41 20L4 18.59l7.72-7.72 1.47 1.35L5.41 20z\"/>\n",
              "  </svg>\n",
              "      </button>\n",
              "      \n",
              "  <style>\n",
              "    .colab-df-container {\n",
              "      display:flex;\n",
              "      flex-wrap:wrap;\n",
              "      gap: 12px;\n",
              "    }\n",
              "\n",
              "    .colab-df-convert {\n",
              "      background-color: #E8F0FE;\n",
              "      border: none;\n",
              "      border-radius: 50%;\n",
              "      cursor: pointer;\n",
              "      display: none;\n",
              "      fill: #1967D2;\n",
              "      height: 32px;\n",
              "      padding: 0 0 0 0;\n",
              "      width: 32px;\n",
              "    }\n",
              "\n",
              "    .colab-df-convert:hover {\n",
              "      background-color: #E2EBFA;\n",
              "      box-shadow: 0px 1px 2px rgba(60, 64, 67, 0.3), 0px 1px 3px 1px rgba(60, 64, 67, 0.15);\n",
              "      fill: #174EA6;\n",
              "    }\n",
              "\n",
              "    [theme=dark] .colab-df-convert {\n",
              "      background-color: #3B4455;\n",
              "      fill: #D2E3FC;\n",
              "    }\n",
              "\n",
              "    [theme=dark] .colab-df-convert:hover {\n",
              "      background-color: #434B5C;\n",
              "      box-shadow: 0px 1px 3px 1px rgba(0, 0, 0, 0.15);\n",
              "      filter: drop-shadow(0px 1px 2px rgba(0, 0, 0, 0.3));\n",
              "      fill: #FFFFFF;\n",
              "    }\n",
              "  </style>\n",
              "\n",
              "      <script>\n",
              "        const buttonEl =\n",
              "          document.querySelector('#df-54a18962-f387-4954-9ec8-0170b7fd42d7 button.colab-df-convert');\n",
              "        buttonEl.style.display =\n",
              "          google.colab.kernel.accessAllowed ? 'block' : 'none';\n",
              "\n",
              "        async function convertToInteractive(key) {\n",
              "          const element = document.querySelector('#df-54a18962-f387-4954-9ec8-0170b7fd42d7');\n",
              "          const dataTable =\n",
              "            await google.colab.kernel.invokeFunction('convertToInteractive',\n",
              "                                                     [key], {});\n",
              "          if (!dataTable) return;\n",
              "\n",
              "          const docLinkHtml = 'Like what you see? Visit the ' +\n",
              "            '<a target=\"_blank\" href=https://colab.research.google.com/notebooks/data_table.ipynb>data table notebook</a>'\n",
              "            + ' to learn more about interactive tables.';\n",
              "          element.innerHTML = '';\n",
              "          dataTable['output_type'] = 'display_data';\n",
              "          await google.colab.output.renderOutput(dataTable, element);\n",
              "          const docLink = document.createElement('div');\n",
              "          docLink.innerHTML = docLinkHtml;\n",
              "          element.appendChild(docLink);\n",
              "        }\n",
              "      </script>\n",
              "    </div>\n",
              "  </div>\n",
              "  "
            ]
          },
          "metadata": {},
          "execution_count": 23
        }
      ]
    },
    {
      "cell_type": "markdown",
      "source": [
        "### Data clean check"
      ],
      "metadata": {
        "id": "TwuakQg3V-P4"
      }
    },
    {
      "cell_type": "code",
      "source": [
        "check_data(dataset)"
      ],
      "metadata": {
        "id": "wzT3sageVpX3"
      },
      "execution_count": null,
      "outputs": []
    },
    {
      "cell_type": "markdown",
      "source": [
        "### Class balance"
      ],
      "metadata": {
        "id": "ccu3VqcVV_oh"
      }
    },
    {
      "cell_type": "code",
      "source": [
        "ax = dataset.CONDITION.value_counts().plot(kind='bar')\n",
        "ax.grid()"
      ],
      "metadata": {
        "colab": {
          "base_uri": "https://localhost:8080/"
        },
        "id": "gCAYMtiKWAjb",
        "outputId": "786635f9-e17a-4f43-f4b1-44e29689b4de"
      },
      "execution_count": null,
      "outputs": [
        {
          "output_type": "display_data",
          "data": {
            "text/plain": [
              "<Figure size 432x288 with 1 Axes>"
            ],
            "image/png": "[encoded data removed]"
          },
          "metadata": {
            "needs_background": "light"
          }
        }
      ]
    },
    {
      "cell_type": "markdown",
      "source": [
        "## Create trainval + test + psychological sets"
      ],
      "metadata": {
        "id": "tIaxHoG-ZOoj"
      }
    },
    {
      "cell_type": "markdown",
      "source": [
        "- Use stratified sampling, to support the same class balance in train, validation and test sets\n",
        "- For training the model (and exploring the data for optimizing the model), we split the dataset into train, validation & test sets with train_test_split function of sklearn (which shuffles the dataset and disrupts the initial structure)\n",
        "- For gaining psychological insights, we sample the exploration set out of the initial set, **complying with the initial structure** (e.g. if we sample 50% of the dataset --> the sampled data contains honest and dishonest response of the same people, and the structure of the dataset is the same)"
      ],
      "metadata": {
        "id": "fnRwsxpNZvAk"
      }
    },
    {
      "cell_type": "markdown",
      "source": [
        "### Data sampling for the model"
      ],
      "metadata": {
        "id": "T4ujPKdhn_M5"
      }
    },
    {
      "cell_type": "code",
      "source": [
        "df_trainval, df_test = train_test_split(\n",
        "    dataset,\n",
        "    train_size=TRAINVAL_SIZE,\n",
        "    random_state=RANDOM_STATE,\n",
        "    stratify=dataset.CONDITION\n",
        ")\n",
        "\n",
        "print(df_trainval.shape, df_test.shape)\n",
        "\n",
        "pep8(_ih)"
      ],
      "metadata": {
        "colab": {
          "base_uri": "https://localhost:8080/"
        },
        "id": "bgvig1TDZSHf",
        "outputId": "adb126b8-8380-46d3-f162-bf252cc6cd1e"
      },
      "execution_count": null,
      "outputs": [
        {
          "output_type": "stream",
          "name": "stdout",
          "text": [
            "(894, 17) (224, 17)\n",
            "\n"
          ]
        }
      ]
    },
    {
      "cell_type": "code",
      "source": [
        "df_train, df_validation = train_test_split(\n",
        "    df_trainval,\n",
        "    train_size=TRAIN_SIZE,\n",
        "    random_state=RANDOM_STATE,\n",
        "    stratify=df_trainval.CONDITION\n",
        ")\n",
        "\n",
        "print(df_train.shape, df_validation.shape)\n",
        "\n",
        "\n",
        "\n",
        "check_split_correctness(df_train, 'CONDITION')\n",
        "\n",
        "pep8(_ih)"
      ],
      "metadata": {
        "colab": {
          "base_uri": "https://localhost:8080/"
        },
        "id": "GOITWBuJbutm",
        "outputId": "ccb99791-f4d2-4f41-a44a-1f29848df8c1"
      },
      "execution_count": 24,
      "outputs": [
        {
          "output_type": "stream",
          "name": "stdout",
          "text": [
            "(898, 17) (225, 17)\n",
            "cell_content.py:10:1: E302 expected 2 blank lines, found 1\n",
            "cell_content.py:18:1: E305 expected 2 blank lines after class or function definition, found 1\n",
            "\n"
          ]
        }
      ]
    },
    {
      "cell_type": "markdown",
      "source": [
        "### Data sampling for psycholodical insights"
      ],
      "metadata": {
        "id": "7mHi2R7UoBaY"
      }
    },
    {
      "cell_type": "code",
      "source": [
        "df_sample = prepare_sample(\n",
        "    dataset,\n",
        "    sample_size_=PSYCHOLOGIC_SAMPLE_SIZE,\n",
        "    random_state_=RANDOM_STATE\n",
        ")\n",
        "\n",
        "verify_sample_correctness(dataset, df_sample)\n",
        "df_sample.head()"
      ],
      "metadata": {
        "colab": {
          "base_uri": "https://localhost:8080/"
        },
        "id": "3aDAb70Wsmx0",
        "outputId": "e4582679-8742-4a40-81c4-9b1af17ff617"
      },
      "execution_count": null,
      "outputs": [
        {
          "output_type": "execute_result",
          "data": {
            "text/plain": [
              "     PHQ1  PHQ2  PHQ3  PHQ4  PHQ5  PHQ6  PHQ7  PHQ8  PHQ9  GAD1  GAD2  GAD3  \\\n",
              "158     3     3     4     4     3     2     3     2     1     4     3     4   \n",
              "451     2     1     2     2     1     2     1     1     1     2     2     1   \n",
              "55      2     1     4     3     2     1     2     1     5     2     3     2   \n",
              "247     2     1     2     2     2     1     2     1     1     1     3     3   \n",
              "70      1     1     2     2     1     1     2     2     5     1     3     2   \n",
              "\n",
              "     GAD4  GAD5  GAD6  GAD7 CONDITION  \n",
              "158     4     1     4     5         H  \n",
              "451     2     4     2     1         H  \n",
              "55      2     1     3     4         H  \n",
              "247     3     1     1     2         H  \n",
              "70      1     1     2     3         H  "
            ],
            "text/html": [
              "\n",
              "  <div id=\"df-468c7945-5b7e-432f-8cb5-0e16f0bb25da\">\n",
              "    <div class=\"colab-df-container\">\n",
              "      <div>\n",
              "<style scoped>\n",
              "    .dataframe tbody tr th:only-of-type {\n",
              "        vertical-align: middle;\n",
              "    }\n",
              "\n",
              "    .dataframe tbody tr th {\n",
              "        vertical-align: top;\n",
              "    }\n",
              "\n",
              "    .dataframe thead th {\n",
              "        text-align: right;\n",
              "    }\n",
              "</style>\n",
              "<table border=\"1\" class=\"dataframe\">\n",
              "  <thead>\n",
              "    <tr style=\"text-align: right;\">\n",
              "      <th></th>\n",
              "      <th>PHQ1</th>\n",
              "      <th>PHQ2</th>\n",
              "      <th>PHQ3</th>\n",
              "      <th>PHQ4</th>\n",
              "      <th>PHQ5</th>\n",
              "      <th>PHQ6</th>\n",
              "      <th>PHQ7</th>\n",
              "      <th>PHQ8</th>\n",
              "      <th>PHQ9</th>\n",
              "      <th>GAD1</th>\n",
              "      <th>GAD2</th>\n",
              "      <th>GAD3</th>\n",
              "      <th>GAD4</th>\n",
              "      <th>GAD5</th>\n",
              "      <th>GAD6</th>\n",
              "      <th>GAD7</th>\n",
              "      <th>CONDITION</th>\n",
              "    </tr>\n",
              "  </thead>\n",
              "  <tbody>\n",
              "    <tr>\n",
              "      <th>158</th>\n",
              "      <td>3</td>\n",
              "      <td>3</td>\n",
              "      <td>4</td>\n",
              "      <td>4</td>\n",
              "      <td>3</td>\n",
              "      <td>2</td>\n",
              "      <td>3</td>\n",
              "      <td>2</td>\n",
              "      <td>1</td>\n",
              "      <td>4</td>\n",
              "      <td>3</td>\n",
              "      <td>4</td>\n",
              "      <td>4</td>\n",
              "      <td>1</td>\n",
              "      <td>4</td>\n",
              "      <td>5</td>\n",
              "      <td>H</td>\n",
              "    </tr>\n",
              "    <tr>\n",
              "      <th>451</th>\n",
              "      <td>2</td>\n",
              "      <td>1</td>\n",
              "      <td>2</td>\n",
              "      <td>2</td>\n",
              "      <td>1</td>\n",
              "      <td>2</td>\n",
              "      <td>1</td>\n",
              "      <td>1</td>\n",
              "      <td>1</td>\n",
              "      <td>2</td>\n",
              "      <td>2</td>\n",
              "      <td>1</td>\n",
              "      <td>2</td>\n",
              "      <td>4</td>\n",
              "      <td>2</td>\n",
              "      <td>1</td>\n",
              "      <td>H</td>\n",
              "    </tr>\n",
              "    <tr>\n",
              "      <th>55</th>\n",
              "      <td>2</td>\n",
              "      <td>1</td>\n",
              "      <td>4</td>\n",
              "      <td>3</td>\n",
              "      <td>2</td>\n",
              "      <td>1</td>\n",
              "      <td>2</td>\n",
              "      <td>1</td>\n",
              "      <td>5</td>\n",
              "      <td>2</td>\n",
              "      <td>3</td>\n",
              "      <td>2</td>\n",
              "      <td>2</td>\n",
              "      <td>1</td>\n",
              "      <td>3</td>\n",
              "      <td>4</td>\n",
              "      <td>H</td>\n",
              "    </tr>\n",
              "    <tr>\n",
              "      <th>247</th>\n",
              "      <td>2</td>\n",
              "      <td>1</td>\n",
              "      <td>2</td>\n",
              "      <td>2</td>\n",
              "      <td>2</td>\n",
              "      <td>1</td>\n",
              "      <td>2</td>\n",
              "      <td>1</td>\n",
              "      <td>1</td>\n",
              "      <td>1</td>\n",
              "      <td>3</td>\n",
              "      <td>3</td>\n",
              "      <td>3</td>\n",
              "      <td>1</td>\n",
              "      <td>1</td>\n",
              "      <td>2</td>\n",
              "      <td>H</td>\n",
              "    </tr>\n",
              "    <tr>\n",
              "      <th>70</th>\n",
              "      <td>1</td>\n",
              "      <td>1</td>\n",
              "      <td>2</td>\n",
              "      <td>2</td>\n",
              "      <td>1</td>\n",
              "      <td>1</td>\n",
              "      <td>2</td>\n",
              "      <td>2</td>\n",
              "      <td>5</td>\n",
              "      <td>1</td>\n",
              "      <td>3</td>\n",
              "      <td>2</td>\n",
              "      <td>1</td>\n",
              "      <td>1</td>\n",
              "      <td>2</td>\n",
              "      <td>3</td>\n",
              "      <td>H</td>\n",
              "    </tr>\n",
              "  </tbody>\n",
              "</table>\n",
              "</div>\n",
              "      <button class=\"colab-df-convert\" onclick=\"convertToInteractive('df-468c7945-5b7e-432f-8cb5-0e16f0bb25da')\"\n",
              "              title=\"Convert this dataframe to an interactive table.\"\n",
              "              style=\"display:none;\">\n",
              "        \n",
              "  <svg xmlns=\"http://www.w3.org/2000/svg\" height=\"24px\"viewBox=\"0 0 24 24\"\n",
              "       width=\"24px\">\n",
              "    <path d=\"M0 0h24v24H0V0z\" fill=\"none\"/>\n",
              "    <path d=\"M18.56 5.44l.94 2.06.94-2.06 2.06-.94-2.06-.94-.94-2.06-.94 2.06-2.06.94zm-11 1L8.5 8.5l.94-2.06 2.06-.94-2.06-.94L8.5 2.5l-.94 2.06-2.06.94zm10 10l.94 2.06.94-2.06 2.06-.94-2.06-.94-.94-2.06-.94 2.06-2.06.94z\"/><path d=\"M17.41 7.96l-1.37-1.37c-.4-.4-.92-.59-1.43-.59-.52 0-1.04.2-1.43.59L10.3 9.45l-7.72 7.72c-.78.78-.78 2.05 0 2.83L4 21.41c.39.39.9.59 1.41.59.51 0 1.02-.2 1.41-.59l7.78-7.78 2.81-2.81c.8-.78.8-2.07 0-2.86zM5.41 20L4 18.59l7.72-7.72 1.47 1.35L5.41 20z\"/>\n",
              "  </svg>\n",
              "      </button>\n",
              "      \n",
              "  <style>\n",
              "    .colab-df-container {\n",
              "      display:flex;\n",
              "      flex-wrap:wrap;\n",
              "      gap: 12px;\n",
              "    }\n",
              "\n",
              "    .colab-df-convert {\n",
              "      background-color: #E8F0FE;\n",
              "      border: none;\n",
              "      border-radius: 50%;\n",
              "      cursor: pointer;\n",
              "      display: none;\n",
              "      fill: #1967D2;\n",
              "      height: 32px;\n",
              "      padding: 0 0 0 0;\n",
              "      width: 32px;\n",
              "    }\n",
              "\n",
              "    .colab-df-convert:hover {\n",
              "      background-color: #E2EBFA;\n",
              "      box-shadow: 0px 1px 2px rgba(60, 64, 67, 0.3), 0px 1px 3px 1px rgba(60, 64, 67, 0.15);\n",
              "      fill: #174EA6;\n",
              "    }\n",
              "\n",
              "    [theme=dark] .colab-df-convert {\n",
              "      background-color: #3B4455;\n",
              "      fill: #D2E3FC;\n",
              "    }\n",
              "\n",
              "    [theme=dark] .colab-df-convert:hover {\n",
              "      background-color: #434B5C;\n",
              "      box-shadow: 0px 1px 3px 1px rgba(0, 0, 0, 0.15);\n",
              "      filter: drop-shadow(0px 1px 2px rgba(0, 0, 0, 0.3));\n",
              "      fill: #FFFFFF;\n",
              "    }\n",
              "  </style>\n",
              "\n",
              "      <script>\n",
              "        const buttonEl =\n",
              "          document.querySelector('#df-468c7945-5b7e-432f-8cb5-0e16f0bb25da button.colab-df-convert');\n",
              "        buttonEl.style.display =\n",
              "          google.colab.kernel.accessAllowed ? 'block' : 'none';\n",
              "\n",
              "        async function convertToInteractive(key) {\n",
              "          const element = document.querySelector('#df-468c7945-5b7e-432f-8cb5-0e16f0bb25da');\n",
              "          const dataTable =\n",
              "            await google.colab.kernel.invokeFunction('convertToInteractive',\n",
              "                                                     [key], {});\n",
              "          if (!dataTable) return;\n",
              "\n",
              "          const docLinkHtml = 'Like what you see? Visit the ' +\n",
              "            '<a target=\"_blank\" href=https://colab.research.google.com/notebooks/data_table.ipynb>data table notebook</a>'\n",
              "            + ' to learn more about interactive tables.';\n",
              "          element.innerHTML = '';\n",
              "          dataTable['output_type'] = 'display_data';\n",
              "          await google.colab.output.renderOutput(dataTable, element);\n",
              "          const docLink = document.createElement('div');\n",
              "          docLink.innerHTML = docLinkHtml;\n",
              "          element.appendChild(docLink);\n",
              "        }\n",
              "      </script>\n",
              "    </div>\n",
              "  </div>\n",
              "  "
            ]
          },
          "metadata": {},
          "execution_count": 15
        }
      ]
    },
    {
      "cell_type": "markdown",
      "source": [
        "## Data exploration (on train set only)"
      ],
      "metadata": {
        "id": "9HBMKN8NZ833"
      }
    },
    {
      "cell_type": "markdown",
      "source": [
        "### Insight №1 - Averaged across patients, relative change in response for malinglers is from 46% to 197% (exaggerated)"
      ],
      "metadata": {
        "id": "32O3JXk9ikKK"
      }
    },
    {
      "cell_type": "code",
      "source": [
        "_ = plot_averaged_question_responses(df_train)"
      ],
      "metadata": {
        "id": "x6QuWesnJkby"
      },
      "execution_count": null,
      "outputs": []
    },
    {
      "cell_type": "markdown",
      "source": [
        "### Insight №2 - what happens for a concrete person, without averaging? Some people try to fake, others - simply maximize all responses. Tendency to exaggarate is true"
      ],
      "metadata": {
        "id": "PJcUoqJojxm7"
      }
    },
    {
      "cell_type": "code",
      "source": [
        "def plot_person_response(df_, df_indices_):\n",
        "    for df_index in df_indices_:\n",
        "        ax = df_.loc[\n",
        "            df_index,\n",
        "            [c for c in df_.columns if c != 'CONDITION']\n",
        "        ].transpose().plot(kind='bar')\n",
        "        ax.legend(df_.loc[df_index, 'CONDITION'])\n",
        "        ax.set_title(f'Person with index {df_index}')\n",
        "\n",
        "pep8(_ih)"
      ],
      "metadata": {
        "colab": {
          "base_uri": "https://localhost:8080/"
        },
        "id": "mTF7E5QDGeVz",
        "outputId": "dea1de2e-adb4-432e-db2f-d1b33c10302d"
      },
      "execution_count": null,
      "outputs": [
        {
          "output_type": "stream",
          "name": "stdout",
          "text": [
            "cell_content.py:10:1: E305 expected 2 blank lines after class or function definition, found 1\n",
            "\n"
          ]
        }
      ]
    },
    {
      "cell_type": "code",
      "source": [
        "plot_person_response(\n",
        "    df_sample,\n",
        "    np.unique(df_sample.index)[:5]\n",
        ")"
      ],
      "metadata": {
        "colab": {
          "base_uri": "https://localhost:8080/",
          "height": 1000
        },
        "id": "IhqvLnWSGz52",
        "outputId": "29730b65-3855-4ad8-fc33-c28a86741590"
      },
      "execution_count": null,
      "outputs": [
        {
          "output_type": "display_data",
          "data": {
            "text/plain": [
              "<Figure size 432x288 with 1 Axes>"
            ],
            "image/png": "[encoded data removed]"
          },
          "metadata": {
            "needs_background": "light"
          }
        },
        {
          "output_type": "display_data",
          "data": {
            "text/plain": [
              "<Figure size 432x288 with 1 Axes>"
            ],
            "image/png": "[encoded data removed]"
          },
          "metadata": {
            "needs_background": "light"
          }
        },
        {
          "output_type": "display_data",
          "data": {
            "text/plain": [
              "<Figure size 432x288 with 1 Axes>"
            ],
            "image/png": "[encoded data removed]"
          },
          "metadata": {
            "needs_background": "light"
          }
        },
        {
          "output_type": "display_data",
          "data": {
            "text/plain": [
              "<Figure size 432x288 with 1 Axes>"
            ],
            "image/png": "[encoded data removed]"
          },
          "metadata": {
            "needs_background": "light"
          }
        },
        {
          "output_type": "display_data",
          "data": {
            "text/plain": [
              "<Figure size 432x288 with 1 Axes>"
            ],
            "image/png": "[encoded data removed]"
          },
          "metadata": {
            "needs_background": "light"
          }
        }
      ]
    },
    {
      "cell_type": "markdown",
      "source": [
        "### Insight № 3 - average elevation in dishonest response is around 2-3 points"
      ],
      "metadata": {
        "id": "7Hc4qWdaIYVk"
      }
    },
    {
      "cell_type": "code",
      "source": [
        "def plot_dishonest_responses(df_sample):\n",
        "    fig, ax = plt.subplots()\n",
        "    questions = df_sample.columns[df_sample.columns != 'CONDITION']\n",
        "    unique_person_indices = np.unique(df_sample.index)\n",
        "    differences_in_response = []\n",
        "    honest_responses_array = []\n",
        "    dishonest_responses_array = []\n",
        "\n",
        "    for unique_person_index in unique_person_indices:\n",
        "        # view with Honest and Dishonest responses of the same person\n",
        "        person_responses = pd.DataFrame(\n",
        "            df_sample.loc[unique_person_index])\n",
        "        honest_responses = person_responses.loc[\n",
        "            person_responses['CONDITION'] == 'H',\n",
        "            questions]\n",
        "        dishonest_responses = person_responses.loc[\n",
        "            person_responses['CONDITION'] == 'D',\n",
        "            questions]\n",
        "\n",
        "        plotting_params = dict(marker='o', alpha=0.1)\n",
        "        ax.scatter(\n",
        "            x=range(honest_responses.shape[1]),\n",
        "            y=honest_responses.values[0],\n",
        "            color='red',\n",
        "            **plotting_params\n",
        "        )\n",
        "\n",
        "        ax.scatter(\n",
        "            x=range(honest_responses.shape[1]),\n",
        "            y=dishonest_responses.values[0],\n",
        "            color='blue',\n",
        "            **plotting_params\n",
        "        )\n",
        "        differences_in_response.append(\n",
        "            dishonest_responses.values[0] - honest_responses.values[0])\n",
        "\n",
        "        honest_responses_array.append(honest_responses.values[0])\n",
        "        dishonest_responses_array.append(dishonest_responses.values[0])\n",
        "        del person_responses\n",
        "\n",
        "    ax.set_xlabel('Questions')\n",
        "    ax.set_ylabel('Response')\n",
        "    ax.legend(['Honest', 'Dishonest'], loc='lower right')\n",
        "    ax.grid()\n",
        "\n",
        "    return differences_in_response, honest_responses_array, \\\n",
        "        dishonest_responses_array\n",
        "\n",
        "\n",
        "pep8(_ih)"
      ],
      "metadata": {
        "colab": {
          "base_uri": "https://localhost:8080/"
        },
        "id": "zaRebT65MUyO",
        "outputId": "bab4715e-5aa8-4f6d-a6e6-3b8eebdb3fb9"
      },
      "execution_count": null,
      "outputs": [
        {
          "output_type": "stream",
          "name": "stdout",
          "text": [
            "\n"
          ]
        }
      ]
    },
    {
      "cell_type": "code",
      "source": [
        "differences_in_response, honest_responses_array, dishonest_responses_array =\\\n",
        "    plot_dishonest_responses(\n",
        "        df_sample\n",
        "    )"
      ],
      "metadata": {
        "colab": {
          "base_uri": "https://localhost:8080/",
          "height": 279
        },
        "id": "JwxiIvXTXjsS",
        "outputId": "a9933897-f1cc-43a7-de32-c36a1fd0427c"
      },
      "execution_count": null,
      "outputs": [
        {
          "output_type": "display_data",
          "data": {
            "text/plain": [
              "<Figure size 432x288 with 1 Axes>"
            ],
            "image/png": "[encoded data removed]"
          },
          "metadata": {
            "needs_background": "light"
          }
        }
      ]
    },
    {
      "cell_type": "code",
      "source": [
        "average_difference_in_response = np.mean(\n",
        "    differences_in_response,\n",
        "    axis=0\n",
        ")\n",
        "\n",
        "average_honest_responses = np.mean(\n",
        "    honest_responses_array,\n",
        "    axis=0\n",
        ")\n",
        "\n",
        "average_dishonest_responses = np.mean(\n",
        "    dishonest_responses_array,\n",
        "    axis=0\n",
        ")"
      ],
      "metadata": {
        "id": "pcHVeHAVQhxS"
      },
      "execution_count": null,
      "outputs": []
    },
    {
      "cell_type": "markdown",
      "source": [
        "- Below, you see a bar chart of average difference in responses for the questions. The procedure for obtaining the barchart is:\n",
        "    - For each question:\n",
        "        - For each person, collect the difference: (**response_dishonest - response_honest**) \n",
        "        - Average across all persons"
      ],
      "metadata": {
        "id": "qwWOOz_3-cOG"
      }
    },
    {
      "cell_type": "code",
      "source": [
        "ax = pd.DataFrame(\n",
        "    [\n",
        "        average_honest_responses,\n",
        "        average_dishonest_responses,\n",
        "        average_difference_in_response\n",
        "     ],\n",
        "    columns=df_sample.columns[df_sample.columns != 'CONDITION'],\n",
        "    index=['Honest', 'Dishonest', 'Difference']\n",
        ").transpose().plot(kind='bar')\n",
        "\n",
        "ax.grid()\n",
        "ax.set_title('Average between dishonest and honest responses')\n",
        "ax.set_xlabel('Question')\n",
        "ax.set_ylabel('Differents in scale')\n",
        "ax.legend(loc='lower right')"
      ],
      "metadata": {
        "colab": {
          "base_uri": "https://localhost:8080/",
          "height": 332
        },
        "id": "Uso28CyvbJqw",
        "outputId": "c008ea51-4a8b-4954-fef5-1ce06e4a39ca"
      },
      "execution_count": null,
      "outputs": [
        {
          "output_type": "execute_result",
          "data": {
            "text/plain": [
              "<matplotlib.legend.Legend at 0x7f641bacc690>"
            ]
          },
          "metadata": {},
          "execution_count": 27
        },
        {
          "output_type": "display_data",
          "data": {
            "text/plain": [
              "<Figure size 432x288 with 1 Axes>"
            ],
            "image/png": "[encoded data removed]"
          },
          "metadata": {
            "needs_background": "light"
          }
        }
      ]
    },
    {
      "cell_type": "markdown",
      "source": [
        "## Data preprocessing"
      ],
      "metadata": {
        "id": "AmZI0ofFBirJ"
      }
    },
    {
      "cell_type": "code",
      "source": [
        "target_column = 'CONDITION'\n",
        "\n",
        "question_columns = df_train.columns[\n",
        "    df_train.columns != target_column\n",
        "]\n",
        "\n",
        "# questions_pipeline = Pipeline(\n",
        "#     []  # empty\n",
        "# )\n",
        "\n",
        "target_pipeline = Pipeline(\n",
        "    [\n",
        "        ('encode', OrdinalEncoder())  # categories=[['H', 'D']]))\n",
        "    ]\n",
        ")\n",
        "\n",
        "pep8(_ih)"
      ],
      "metadata": {
        "colab": {
          "base_uri": "https://localhost:8080/"
        },
        "id": "kU4YH1SaIQXd",
        "outputId": "e68dd10b-30dc-466d-aac9-2d0bebea2b11"
      },
      "execution_count": null,
      "outputs": [
        {
          "output_type": "stream",
          "name": "stdout",
          "text": [
            "\n"
          ]
        }
      ]
    },
    {
      "cell_type": "code",
      "source": [
        "preprocessor = ColumnTransformer(\n",
        "    [\n",
        "        # ('questions', questions_pipeline, question_columns),\n",
        "        ('target', target_pipeline, [target_column])\n",
        "    ],\n",
        "    remainder='passthrough'\n",
        ")"
      ],
      "metadata": {
        "id": "YzIOm11pI12L"
      },
      "execution_count": null,
      "outputs": []
    },
    {
      "cell_type": "markdown",
      "source": [
        "- Fit & transform on training set\n",
        "- Only transform on the validation and test sets"
      ],
      "metadata": {
        "id": "YKcHD3kxJnIh"
      }
    },
    {
      "cell_type": "code",
      "source": [
        "df_train_processed = preprocessor.fit_transform(df_train)\n",
        "df_validation_processed = preprocessor.transform(df_validation)\n",
        "df_test_processed = preprocessor.transform(df_test)"
      ],
      "metadata": {
        "id": "OMRk86wcJDDR"
      },
      "execution_count": null,
      "outputs": []
    },
    {
      "cell_type": "code",
      "source": [
        "df_trainval_processed = preprocessor.fit_transform(df_trainval)"
      ],
      "metadata": {
        "id": "iG8cnXLo_rbX"
      },
      "execution_count": null,
      "outputs": []
    },
    {
      "cell_type": "code",
      "source": [
        "def get_X_Y(df_):\n",
        "    return df_[:, 1:-1], df_[:, 0]\n",
        "\n",
        "X_train_processed, Y_train_processed = \\\n",
        "    get_X_Y(df_train_processed)\n",
        "\n",
        "X_validation_processed, Y_validation_processed = \\\n",
        "    get_X_Y(df_validation_processed)\n",
        "\n",
        "X_test_processed, Y_test_processed = \\\n",
        "    get_X_Y(df_test_processed)\n",
        "\n",
        "X_trainval_processed, Y_trainval_processed = \\\n",
        "    get_X_Y(df_trainval_processed)"
      ],
      "metadata": {
        "id": "DzBMEjR2FYQg"
      },
      "execution_count": null,
      "outputs": []
    },
    {
      "cell_type": "markdown",
      "source": [
        "## Model selection"
      ],
      "metadata": {
        "id": "rXxiSlFmMpSN"
      }
    },
    {
      "cell_type": "code",
      "source": [
        "from sklearn.model_selection import GridSearchCV\n",
        "from sklearn.ensemble import RandomForestClassifier\n",
        "from sklearn.tree import DecisionTreeClassifier\n",
        "from sklearn.svm import SVC"
      ],
      "metadata": {
        "id": "oOnlXgxlMluX"
      },
      "execution_count": null,
      "outputs": []
    },
    {
      "cell_type": "code",
      "source": [
        "random_forest_model = Model(\n",
        "    RandomForestClassifier(),\n",
        "    'Random forest',\n",
        "    {\n",
        "        'n_estimators': [1, 2, 5, 10],\n",
        "        'max_depth': [1, 2, 3],\n",
        "        'random_state': [RANDOM_STATE],\n",
        "    },\n",
        "    {\n",
        "        'n_estimators': [i for i in range(1, 5)],\n",
        "        'max_depth': [i for i in range(3)],\n",
        "        'random_state': [RANDOM_STATE]\n",
        "    }\n",
        ")"
      ],
      "metadata": {
        "id": "iZosjXyxMvyt"
      },
      "execution_count": null,
      "outputs": []
    },
    {
      "cell_type": "code",
      "source": [
        "svm_model = Model(\n",
        "    SVC(),\n",
        "    'SVM',\n",
        "    {\n",
        "        'C': [0.1, 0.5, 1.0],\n",
        "        'kernel': ['linear'],\n",
        "        'random_state': [RANDOM_STATE]\n",
        "     \n",
        "    },\n",
        "    {\n",
        "        'C': [i * 0.1 for i in range(1, 11)] + [2, 5],\n",
        "        'kernel': ['linear'],\n",
        "        'random_state': [RANDOM_STATE]\n",
        "    }\n",
        ")"
      ],
      "metadata": {
        "id": "GT94X2kcM0sA"
      },
      "execution_count": null,
      "outputs": []
    },
    {
      "cell_type": "code",
      "source": [
        "all_models = {\n",
        "    model.name: model\n",
        "    for model in [\n",
        "        random_forest_model,\n",
        "        svm_model\n",
        "    ]\n",
        "}"
      ],
      "metadata": {
        "id": "j3Q7IGtWVouN"
      },
      "execution_count": null,
      "outputs": []
    },
    {
      "cell_type": "markdown",
      "source": [
        "- As we see below, even without fine tuning, models handle the classification task fairly well, reaching 98.7% - 98.9% average accuracy on unseen folds, during cross validation\n",
        "- Accuracy is a valid metrics, since the classes are balanced\n",
        "- Thus, **random forest** and **svm classifier** could be shortlisted, if this was a performance-based competition"
      ],
      "metadata": {
        "id": "bYim4LDjepai"
      }
    },
    {
      "cell_type": "code",
      "source": [
        "cv_results = plot_cv_results(\n",
        "    {name: model.model for name, model in all_models.items()},\n",
        "    X_=X_trainval_processed,\n",
        "    Y_=Y_trainval_processed,\n",
        "    cv_=5,\n",
        "    scoring_='accuracy'\n",
        ")"
      ],
      "metadata": {
        "colab": {
          "base_uri": "https://localhost:8080/",
          "height": 645
        },
        "id": "7R4fsGFfbN-V",
        "outputId": "5f13a7df-c20e-4e78-b1f3-60cda48fb4d3"
      },
      "execution_count": null,
      "outputs": [
        {
          "output_type": "stream",
          "name": "stdout",
          "text": [
            "Model            Seen folds avg score    Seen folds std    Unseen folds avg score    Unseen folds std\n",
            "-------------  ----------------------  ----------------  ------------------------  ------------------\n",
            "Random forest                1               0                           0.988814          0.00353336\n",
            "SVM                          0.994686        0.00104787                  0.989932          0.00224105\n"
          ]
        },
        {
          "output_type": "display_data",
          "data": {
            "text/plain": [
              "<Figure size 432x288 with 1 Axes>"
            ],
            "image/png": "[encoded data removed]"
          },
          "metadata": {
            "needs_background": "light"
          }
        },
        {
          "output_type": "display_data",
          "data": {
            "text/plain": [
              "<Figure size 432x288 with 1 Axes>"
            ],
            "image/png": "[encoded data removed]"
          },
          "metadata": {
            "needs_background": "light"
          }
        }
      ]
    },
    {
      "cell_type": "markdown",
      "source": [
        "## Model fine-tuning"
      ],
      "metadata": {
        "id": "v6NHNohYfeuB"
      }
    },
    {
      "cell_type": "code",
      "source": [
        "grid_search_results = fit_grid_search(\n",
        "    models_dict_=dict_subset(\n",
        "        all_models, ['SVM', 'Random forest']\n",
        "    ),\n",
        "    X_=X_trainval_processed,\n",
        "    Y_=Y_trainval_processed,\n",
        "    cv_=5,\n",
        "    scoring_='accuracy'\n",
        ")"
      ],
      "metadata": {
        "colab": {
          "base_uri": "https://localhost:8080/"
        },
        "id": "mkIewYmSfn9b",
        "outputId": "67f14e26-0e95-4151-fa27-41af42b48caf"
      },
      "execution_count": null,
      "outputs": [
        {
          "output_type": "stream",
          "name": "stdout",
          "text": [
            "Fitting SVM\n",
            "Fitting Random forest\n"
          ]
        }
      ]
    },
    {
      "cell_type": "code",
      "source": [
        "cv_results = plot_cv_results(\n",
        "    {name: gs_res.best_estimator_ \\\n",
        "     for name, gs_res in grid_search_results.items()},\n",
        "    X_=X_trainval_processed,\n",
        "    Y_=Y_trainval_processed,\n",
        "    cv_=5,\n",
        "    scoring_='accuracy'\n",
        ")"
      ],
      "metadata": {
        "id": "Pwz4WB7QoG9Z",
        "outputId": "bdb42591-d3b4-4057-e45a-c792c676a004",
        "colab": {
          "base_uri": "https://localhost:8080/",
          "height": 645
        }
      },
      "execution_count": null,
      "outputs": [
        {
          "output_type": "stream",
          "name": "stdout",
          "text": [
            "Model            Seen folds avg score    Seen folds std    Unseen folds avg score    Unseen folds std\n",
            "-------------  ----------------------  ----------------  ------------------------  ------------------\n",
            "Random forest                0.9849          0.00323318                  0.978752          0.00219697\n",
            "SVM                          0.994686        0.00163224                  0.989932          0.00547634\n"
          ]
        },
        {
          "output_type": "display_data",
          "data": {
            "text/plain": [
              "<Figure size 432x288 with 1 Axes>"
            ],
            "image/png": "[encoded data removed]"
          },
          "metadata": {
            "needs_background": "light"
          }
        },
        {
          "output_type": "display_data",
          "data": {
            "text/plain": [
              "<Figure size 432x288 with 1 Axes>"
            ],
            "image/png": "[encoded data removed]"
          },
          "metadata": {
            "needs_background": "light"
          }
        }
      ]
    },
    {
      "cell_type": "markdown",
      "source": [
        "## Problem statement"
      ],
      "metadata": {
        "id": "M9AYt2LAkWyj"
      }
    },
    {
      "cell_type": "markdown",
      "source": [
        "- Below, we see: despite several models ensure high performance on the unseen data - the high classification preformance is achieved by utilizing different subsets of features"
      ],
      "metadata": {
        "id": "cg0oe7FpnScm"
      }
    },
    {
      "cell_type": "code",
      "source": [
        "def plot_feature_importances(grid_search_results_):\n",
        "    dataframe_dict = {}\n",
        "    for model_name, gs_result in grid_search_results_.items():\n",
        "        dataframe_dict[model_name] = \\\n",
        "            get_feature_importances(\n",
        "                model_name,\n",
        "                grid_search_results[model_name]\n",
        "            )\n",
        "    ax = pd.DataFrame(dataframe_dict).plot(kind='bar')\n",
        "    ax.grid()\n",
        "\n",
        "\n",
        "pep8(_ih)"
      ],
      "metadata": {
        "colab": {
          "base_uri": "https://localhost:8080/"
        },
        "id": "OtWpM4UEmink",
        "outputId": "cb34dd30-3d31-45ba-dc36-1ecb96fd0600"
      },
      "execution_count": null,
      "outputs": [
        {
          "output_type": "stream",
          "name": "stdout",
          "text": [
            "\n"
          ]
        }
      ]
    },
    {
      "cell_type": "code",
      "source": [
        "def get_feature_importances(\n",
        "    model_name_,\n",
        "    grid_search_results_\n",
        "):\n",
        "    best_estimator = grid_search_results_.best_estimator_\n",
        "    if model_name_ == 'SVM':\n",
        "        return best_estimator.coef_[0]\n",
        "    elif model_name_ == 'Random forest':\n",
        "        return best_estimator.feature_importances_\n",
        "\n",
        "\n",
        "pep8(_ih)"
      ],
      "metadata": {
        "colab": {
          "base_uri": "https://localhost:8080/"
        },
        "id": "QiLpI_jvnLuu",
        "outputId": "c395b4f9-98b0-407f-de64-3bbbdabb4440"
      },
      "execution_count": null,
      "outputs": [
        {
          "output_type": "stream",
          "name": "stdout",
          "text": [
            "\n"
          ]
        }
      ]
    },
    {
      "cell_type": "code",
      "source": [
        "plot_feature_importances(\n",
        "    grid_search_results\n",
        ")"
      ],
      "metadata": {
        "colab": {
          "base_uri": "https://localhost:8080/",
          "height": 268
        },
        "id": "ye0h3M-DnD7G",
        "outputId": "6a15b2d9-daa6-435f-d29a-9c294875ccd2"
      },
      "execution_count": null,
      "outputs": [
        {
          "output_type": "display_data",
          "data": {
            "text/plain": [
              "<Figure size 432x288 with 1 Axes>"
            ],
            "image/png": "[encoded data removed]"
          },
          "metadata": {
            "needs_background": "light"
          }
        }
      ]
    },
    {
      "cell_type": "markdown",
      "source": [
        "## Solutions for robust feature selection procedure"
      ],
      "metadata": {
        "id": "1mHQyUSLohSQ"
      }
    },
    {
      "cell_type": "markdown",
      "source": [
        "- Resources:\n",
        "    - https://machinelearningmastery.com/feature-selection-with-real-and-categorical-data/\n",
        "    - https://machinelearningmastery.com/feature-selection-with-categorical-data/"
      ],
      "metadata": {
        "id": "IN0kIviN20Ft"
      }
    },
    {
      "cell_type": "markdown",
      "source": [
        "- Feature selection - is a process of removing **non-informative** or **redundant** predictors\n",
        "- Therefore, the questions are:\n",
        "    - What is the **measure of usefulness / informativeness** of a feature?\n",
        "    - How do different models define informativeness?\n",
        "    - Why different models select varied subsets of features, that are considered useful?\n",
        "    "
      ],
      "metadata": {
        "id": "-RsMIrUA28Po"
      }
    },
    {
      "cell_type": "markdown",
      "source": [
        "**Feature selection**\n",
        "- Unsupervised methods:\n",
        "    - Ignore target variable (don't look at it)\n",
        "    - Remove redundant predictors (e.g. removing the correlated predictors)\n",
        "- Supervised methods:\n",
        "    - Account for target variable\n",
        "    - Remove irrelavant predictors\n",
        "- Wrapper methods (e.g. Recursive Feature Elimination)\n",
        "    - Create many models with different subsets of features, and select the subset, that provides the model with the highest performance\n",
        "    - **Model-dependent method**\n",
        "- Filter methods:\n",
        "    - Uses statistics to evaluate relation between predictors and the target variable. Selects the features with the strongest relationship\n",
        "    - **Model-independent method**\n",
        "- Intrinsic feature selection methods:\n",
        "    - Regards models, capable of internal feature selection during training (e.g. Lasso regression, decision trees)\n",
        "    - **Model dependent method**\n",
        "- Dimensionality reduction techniques\n",
        "    - Instead of selecting features, these techniques *project the data into another space with fewer dimensionality*. We lose the original features.\n",
        "- **Our conclusion**\n",
        "    - We will focus on model-independent techniques: filter-based feature selection and dimensionality reduction\n",
        "    - Since **models cannot be involved into robust feature selection**, we will focus on characteristics, encoding the relationship between predictors and the target variable\n",
        "    - We will explain why different models select different subsets of meaningful features\n",
        "    - The target metrics is: difference in classification performance metrics between two cases:\n",
        "        - Performance, measured for a model, trained on the full dataset\n",
        "        - Performance, measured for a model, trained on the data with selected features"
      ],
      "metadata": {
        "id": "PEK4QVhZ36Q0"
      }
    },
    {
      "cell_type": "markdown",
      "source": [
        "**Our data**\n",
        "- Input - categorical ordinal variables, because each has a fixed set of categories (1-5), given in the order of the symptoms' intensity\n",
        "- Output - categorical binary variable\n",
        "- According to the *How to choose a feature selection method for ML*, for categorical input and categorical output, the filter-based feature selection methods are:\n",
        "    - Chi-squared testing\n",
        "    - Mutual information\n",
        "- Also, categorical input can be experimentally considered as numerical. This will let us use following methods for numerical input and categorical output:\n",
        "    - ANOVA correlation coefficient\n",
        "    - Kendall's rank coefficient"
      ],
      "metadata": {
        "id": "Pig7MKDf7XDU"
      }
    },
    {
      "cell_type": "markdown",
      "source": [
        "- SelectKBest\n",
        "- SelectPercentile"
      ],
      "metadata": {
        "id": "1BNvk5VX9ibR"
      }
    },
    {
      "cell_type": "markdown",
      "source": [
        "- Our experiment scheme:\n",
        "    1. Find best model, using grid search, on the full training data\n",
        "    2. Calculate validation performance of the model above\n",
        "    3. Fit feature selector on training dataset, transform train and validation datasets\n",
        "    4. Train a model with the same parameters on the train dataset with selected features, and calculate validation metrics on the validation dataset with selected features\n",
        "    5. Compare validation metrics of the models, trained on full set of features, and dataset with selected features. **Hyperparameters of the model are held the same**. We aim for the smallest difference possible, between these validation performance metrics"
      ],
      "metadata": {
        "id": "SAV-vGXFRbdP"
      }
    },
    {
      "cell_type": "markdown",
      "source": [
        "### Experiment with Chi-squared feature selection"
      ],
      "metadata": {
        "id": "yYhQOZ5tSJ91"
      }
    },
    {
      "cell_type": "code",
      "source": [
        "from sklearn.feature_selection import SelectKBest\n",
        "from sklearn.feature_selection import SelectPercentile\n",
        "from sklearn.feature_selection import chi2\n",
        "from sklearn.metrics import accuracy_score\n",
        "from sklearn.base import clone as clone_model"
      ],
      "metadata": {
        "id": "Y1eluZUFSQ20"
      },
      "execution_count": null,
      "outputs": []
    },
    {
      "cell_type": "code",
      "source": [
        "def perform_feature_selection(\n",
        "    feature_selection_function_,\n",
        "    percentile_,\n",
        "    X_train_,\n",
        "    Y_train_,\n",
        "    X_validation_,\n",
        "    Y_validation_\n",
        "):\n",
        "    feature_selector = SelectPercentile(\n",
        "        score_func=feature_selection_function_,\n",
        "        percentile=percentile_\n",
        "    )\n",
        "\n",
        "    X_train_reduced = feature_selector.fit_transform(X_train_, Y_train_)\n",
        "    X_validation_reduced = feature_selector.transform(X_validation_)\n",
        "    return X_train_reduced, X_validation_reduced\n",
        "\n",
        "\n",
        "pep8(_ih)"
      ],
      "metadata": {
        "colab": {
          "base_uri": "https://localhost:8080/"
        },
        "id": "6awFOCfwfQMb",
        "outputId": "dcad2208-21e0-4009-c383-bd64076b5537"
      },
      "execution_count": null,
      "outputs": [
        {
          "output_type": "stream",
          "name": "stdout",
          "text": [
            "\n"
          ]
        }
      ]
    },
    {
      "cell_type": "code",
      "source": [
        "def calculate_validation_performance(\n",
        "    sklearn_model_,  # grid_search_results_,\n",
        "    X_train_,\n",
        "    Y_train_,\n",
        "    X_validation_,\n",
        "    Y_validation_,\n",
        "    metrics_function_,\n",
        "    feature_selection_function_,\n",
        "    percentiles_\n",
        "):\n",
        "    '''\n",
        "    percentiles_ - list of percentile values - how much of the features\n",
        "    we retain.\n",
        "\n",
        "    '''\n",
        "    model_before_feature_selection = clone_model(sklearn_model_)\n",
        "    model_after_feature_selection = clone_model(sklearn_model_)\n",
        "\n",
        "    # Important - must refit on X_train and Y_train from scratch,\n",
        "    # because grid search models were refit on X_train + X_validation\n",
        "    # data, therefore comparison will not be fair\n",
        "    model_before_feature_selection.fit(X_train_, Y_train_)\n",
        "\n",
        "    metrics_before_feature_selection = metrics_function_(\n",
        "        model_before_feature_selection.predict(X_validation_),\n",
        "        Y_validation_)\n",
        "\n",
        "    res_metrics = []\n",
        "    n_features = []\n",
        "    for percentile in percentiles_:\n",
        "        X_train_reduced, X_validation_reduced = perform_feature_selection(\n",
        "            feature_selection_function_,\n",
        "            percentile,\n",
        "            X_train_=X_train_,\n",
        "            Y_train_=Y_train_,\n",
        "            X_validation_=X_validation_,\n",
        "            Y_validation_=Y_validation_\n",
        "        )\n",
        "        n_features.append(X_train_reduced.shape[1])\n",
        "\n",
        "        model_after_feature_selection.fit(\n",
        "            X_train_reduced, Y_train_)\n",
        "        metrics_after_feature_selection = metrics_function_(\n",
        "            model_after_feature_selection.predict(X_validation_reduced),\n",
        "            Y_validation_)\n",
        "        res_metrics.append(metrics_after_feature_selection)\n",
        "\n",
        "    return {\n",
        "        'percentiles': percentiles_,\n",
        "        'n_features': n_features,\n",
        "        'metrics': res_metrics\n",
        "    }\n",
        "\n",
        "\n",
        "pep8(_ih)"
      ],
      "metadata": {
        "colab": {
          "base_uri": "https://localhost:8080/"
        },
        "id": "zJqpUO54cttp",
        "outputId": "32270f79-7a09-43f3-85f3-bbd4a4a14941"
      },
      "execution_count": null,
      "outputs": [
        {
          "output_type": "stream",
          "name": "stdout",
          "text": [
            "\n"
          ]
        }
      ]
    },
    {
      "cell_type": "code",
      "source": [
        "svm_validation_results = calculate_validation_performance(\n",
        "    grid_search_results['SVM'].best_estimator_,\n",
        "    X_train_processed,\n",
        "    Y_train_processed,\n",
        "    X_validation_processed,\n",
        "    Y_validation_processed,\n",
        "    metrics_function_=accuracy_score,\n",
        "    feature_selection_function_=chi2,\n",
        "    percentiles_=[5, 10, 30, 50, 80, 100]\n",
        ")\n",
        "\n",
        "svm_validation_results"
      ],
      "metadata": {
        "colab": {
          "base_uri": "https://localhost:8080/"
        },
        "id": "qx0-iKtNg37_",
        "outputId": "79a72d34-7aac-4283-ce6e-1292f729769e"
      },
      "execution_count": null,
      "outputs": [
        {
          "output_type": "execute_result",
          "data": {
            "text/plain": [
              "{'percentiles': [5, 10, 30, 50, 80, 100],\n",
              " 'n_features': [1, 2, 5, 7, 12, 15],\n",
              " 'metrics': [0.9553072625698324,\n",
              "  0.9832402234636871,\n",
              "  0.9832402234636871,\n",
              "  0.994413407821229,\n",
              "  0.9888268156424581,\n",
              "  0.9832402234636871]}"
            ]
          },
          "metadata": {},
          "execution_count": 204
        }
      ]
    },
    {
      "cell_type": "code",
      "source": [
        "random_forest_results = calculate_validation_performance(\n",
        "    grid_search_results['Random forest'].best_estimator_,\n",
        "    X_train_processed,\n",
        "    Y_train_processed,\n",
        "    X_validation_processed,\n",
        "    Y_validation_processed,\n",
        "    metrics_function_=accuracy_score,\n",
        "    feature_selection_function_=chi2,\n",
        "    percentiles_=[5, 10, 30, 50, 80, 100]\n",
        ")\n",
        "\n",
        "random_forest_results"
      ],
      "metadata": {
        "colab": {
          "base_uri": "https://localhost:8080/"
        },
        "id": "iR2zygNTvkhg",
        "outputId": "9d65ee16-8dc1-45f0-c172-b805a92caccf"
      },
      "execution_count": null,
      "outputs": [
        {
          "output_type": "execute_result",
          "data": {
            "text/plain": [
              "{'percentiles': [5, 10, 30, 50, 80, 100],\n",
              " 'n_features': [1, 2, 5, 7, 12, 15],\n",
              " 'metrics': [0.9553072625698324,\n",
              "  0.9776536312849162,\n",
              "  0.9832402234636871,\n",
              "  0.9832402234636871,\n",
              "  0.9776536312849162,\n",
              "  0.9720670391061452]}"
            ]
          },
          "metadata": {},
          "execution_count": 216
        }
      ]
    },
    {
      "cell_type": "code",
      "source": [
        "def plot_validation_performance(results_dict_, **kwargs):\n",
        "    fig, ax = plt.subplots(1, 2, figsize=kwargs.get('figsize') or (15, 5))\n",
        "    ax2 = ax[0].twiny()\n",
        "    ax3 = ax[1].twiny()\n",
        "\n",
        "    ax[0].plot(\n",
        "        results_dict_['n_features'],\n",
        "        results_dict_['metrics'],\n",
        "        marker='o',\n",
        "        linestyle='--'\n",
        "    )\n",
        "    ax[0].set_title('Performance on the validation set')\n",
        "    ax[0].set_xlabel('Number of retained features')\n",
        "    ax[0].grid()\n",
        "\n",
        "    ax[0].axhline(\n",
        "        results_dict_['metrics'][-1],\n",
        "        linestyle='--',\n",
        "        color='red'\n",
        "    )\n",
        "\n",
        "    ax[1].plot(\n",
        "        results_dict_['n_features'],\n",
        "        [val - results_dict_['metrics'][-1]\n",
        "         for val in results_dict_['metrics']],\n",
        "        marker='o',\n",
        "        linestyle='--'\n",
        "    )\n",
        "    ax[1].set_title('Difference between validation performance on' \\\n",
        "                    + '\\n reduced and original data')\n",
        "    ax[1].axhline(\n",
        "        0,\n",
        "        linestyle='--',\n",
        "        color='red'\n",
        "    )\n",
        "    ax[1].grid()\n",
        "\n",
        "\n",
        "pep8(_ih)"
      ],
      "metadata": {
        "colab": {
          "base_uri": "https://localhost:8080/"
        },
        "id": "JyiIeB_ysd6i",
        "outputId": "399ad5a5-7c8c-461c-a827-2a58b97c92c1"
      },
      "execution_count": null,
      "outputs": [
        {
          "output_type": "stream",
          "name": "stdout",
          "text": [
            "cell_content.py:29:68: E502 the backslash is redundant between brackets\n",
            "\n"
          ]
        }
      ]
    },
    {
      "cell_type": "code",
      "source": [
        "plot_validation_performance(\n",
        "    random_forest_results,\n",
        "    \n",
        ")"
      ],
      "metadata": {
        "colab": {
          "base_uri": "https://localhost:8080/",
          "height": 382
        },
        "id": "FFHbLa7Vv8-u",
        "outputId": "070b799d-db81-4a86-ac38-94de17a17d34"
      },
      "execution_count": null,
      "outputs": [
        {
          "output_type": "display_data",
          "data": {
            "text/plain": [
              "<Figure size 1080x360 with 4 Axes>"
            ],
            "image/png": "[encoded data removed]"
          },
          "metadata": {
            "needs_background": "light"
          }
        }
      ]
    },
    {
      "cell_type": "code",
      "source": [
        "plot_validation_performance(\n",
        "    svm_validation_results,\n",
        "    figsize=(13, 5)\n",
        ")"
      ],
      "metadata": {
        "colab": {
          "base_uri": "https://localhost:8080/",
          "height": 382
        },
        "id": "q2QgXXN2sq7z",
        "outputId": "eff67165-7cae-4d60-f62a-5ce6464519ba"
      },
      "execution_count": null,
      "outputs": [
        {
          "output_type": "display_data",
          "data": {
            "text/plain": [
              "<Figure size 936x360 with 4 Axes>"
            ],
            "image/png": "[encoded data removed]"
          },
          "metadata": {
            "needs_background": "light"
          }
        }
      ]
    },
    {
      "cell_type": "code",
      "source": [
        "def plot_selector_feature_scores(selector_, name_=''):\n",
        "    fix, ax = plt.subplots()\n",
        "    ax.bar(\n",
        "        np.arange(len(selector_.scores_)),\n",
        "        selector_.scores_\n",
        "    )\n",
        "    ax.set_title(name_)\n",
        "    ax.grid()\n",
        "\n",
        "\n",
        "pep8(_ih)"
      ],
      "metadata": {
        "colab": {
          "base_uri": "https://localhost:8080/"
        },
        "id": "YalTnRJNuuWs",
        "outputId": "d6b1aba1-612c-4ee2-887d-8d3934cd2413"
      },
      "execution_count": null,
      "outputs": [
        {
          "output_type": "stream",
          "name": "stdout",
          "text": [
            "\n"
          ]
        }
      ]
    },
    {
      "cell_type": "code",
      "source": [
        "feature_selector = SelectPercentile(\n",
        "    score_func=chi2,\n",
        "    percentile=100\n",
        ")\n",
        "\n",
        "feature_selector.fit(X_train_processed, Y_train_processed)\n",
        "plot_selector_feature_scores(feature_selector)"
      ],
      "metadata": {
        "colab": {
          "base_uri": "https://localhost:8080/",
          "height": 265
        },
        "id": "S8_VDBPiuvbj",
        "outputId": "6d35939d-5b0c-4d4c-ddab-384dce79a1f5"
      },
      "execution_count": null,
      "outputs": [
        {
          "output_type": "display_data",
          "data": {
            "text/plain": [
              "<Figure size 432x288 with 1 Axes>"
            ],
            "image/png": "[encoded data removed]"
          },
          "metadata": {
            "needs_background": "light"
          }
        }
      ]
    }
  ]
}