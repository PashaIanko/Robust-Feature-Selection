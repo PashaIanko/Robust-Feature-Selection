{
  "nbformat": 4,
  "nbformat_minor": 0,
  "metadata": {
    "colab": {
      "provenance": [],
      "authorship_tag": "ABX9TyMHqGQ95iGXZezIGmjCa776",
      "include_colab_link": true
    },
    "kernelspec": {
      "name": "python3",
      "display_name": "Python 3"
    },
    "language_info": {
      "name": "python"
    }
  },
  "cells": [
    {
      "cell_type": "markdown",
      "metadata": {
        "id": "view-in-github",
        "colab_type": "text"
      },
      "source": [
        "<a href=\"https://colab.research.google.com/github/PashaIanko/Robust-Feature-Selection/blob/main/main.ipynb\" target=\"_parent\"><img src=\"https://colab.research.google.com/assets/colab-badge.svg\" alt=\"Open In Colab\"/></a>"
      ]
    },
    {
      "cell_type": "markdown",
      "source": [
        "# Imports"
      ],
      "metadata": {
        "id": "NwzaaHgsRf6U"
      }
    },
    {
      "cell_type": "code",
      "execution_count": 164,
      "metadata": {
        "id": "-0Yc44wzRbcr"
      },
      "outputs": [],
      "source": [
        "# Colab\n",
        "from google.colab import drive\n",
        "\n",
        "# paths\n",
        "import os\n",
        "\n",
        "# data\n",
        "import pandas as pd\n",
        "\n",
        "# sklearn\n",
        "from sklearn.model_selection import train_test_split\n",
        "\n",
        "# math\n",
        "import numpy as np\n",
        "\n",
        "# plotting\n",
        "from matplotlib import pyplot as plt"
      ]
    },
    {
      "cell_type": "code",
      "source": [
        "# PEP 8 standard\n",
        "%%capture \n",
        "!pip install pycodestyle \n",
        "!pip install --index-url https://test.pypi.org/simple/ nbpep8 \n",
        "from nbpep8.nbpep8 import pep8"
      ],
      "metadata": {
        "id": "lLsbFkcAXNrL"
      },
      "execution_count": 2,
      "outputs": []
    },
    {
      "cell_type": "markdown",
      "source": [
        "# Read the data"
      ],
      "metadata": {
        "id": "PQVl8F0kRosS"
      }
    },
    {
      "cell_type": "code",
      "source": [
        "drive.mount('/content/gdrive')\n",
        "datasets_folder_path = \\\n",
        "    '/content/gdrive/MyDrive/ML/DataScience_Dataset 2022-2023'\n",
        "\n",
        "assert os.path.isdir(datasets_folder_path)"
      ],
      "metadata": {
        "colab": {
          "base_uri": "https://localhost:8080/"
        },
        "id": "tlwgn4uxRq-b",
        "outputId": "534d6ed0-765f-4507-ccb1-e4b064c35f7d"
      },
      "execution_count": 3,
      "outputs": [
        {
          "output_type": "stream",
          "name": "stdout",
          "text": [
            "Mounted at /content/gdrive\n"
          ]
        }
      ]
    },
    {
      "cell_type": "markdown",
      "source": [
        "# 5. PHQ9_GAD7"
      ],
      "metadata": {
        "id": "UG79thZSTuBb"
      }
    },
    {
      "cell_type": "markdown",
      "source": [
        "## Download the data"
      ],
      "metadata": {
        "id": "cLx_CYHGT0o9"
      }
    },
    {
      "cell_type": "code",
      "source": [
        "def read_data(root_path, folder_name):\n",
        "    if folder_name == '5. PHQ9_GAD7':\n",
        "        \n",
        "        phq9_gad_7_csv_path = os.path.join(\n",
        "            datasets_folder_path,\n",
        "            '5. PHQ9_GAD7',\n",
        "            'PHQ9_GAD7_df.csv'\n",
        "        )\n",
        "        assert os.path.isfile(phq9_gad_7_csv_path)\n",
        "        \n",
        "        return pd.read_csv(\n",
        "            phq9_gad_7_csv_path,\n",
        "            sep=';'\n",
        "        )"
      ],
      "metadata": {
        "id": "k2d-1EHuUtPA"
      },
      "execution_count": 4,
      "outputs": []
    },
    {
      "cell_type": "code",
      "source": [
        "dataset = read_data(\n",
        "    datasets_folder_path,\n",
        "    '5. PHQ9_GAD7'\n",
        ")\n",
        "\n",
        "pep8(_ih)"
      ],
      "metadata": {
        "colab": {
          "base_uri": "https://localhost:8080/"
        },
        "id": "0nhHjdK4TxCb",
        "outputId": "0c09bc85-7b7a-44e0-bfad-0cb8dd72b07f"
      },
      "execution_count": 5,
      "outputs": [
        {
          "output_type": "stream",
          "name": "stdout",
          "text": [
            "\n"
          ]
        }
      ]
    },
    {
      "cell_type": "code",
      "source": [
        "dataset.head()"
      ],
      "metadata": {
        "colab": {
          "base_uri": "https://localhost:8080/",
          "height": 0
        },
        "id": "_sYpixNwVLvr",
        "outputId": "07ac31a5-8e76-4622-caed-d39eeb714c70"
      },
      "execution_count": 6,
      "outputs": [
        {
          "output_type": "execute_result",
          "data": {
            "text/plain": [
              "   PHQ1  PHQ2  PHQ3  PHQ4  PHQ5  PHQ6  PHQ7  PHQ8  PHQ9  GAD1  GAD2  GAD3  \\\n",
              "0     3     1     1     3     1     1     2     1     2     2     3     2   \n",
              "1     2     1     3     3     1     1     3     1     5     3     3     3   \n",
              "2     3     2     2     3     4     3     2     2     2     3     2     3   \n",
              "3     2     2     4     3     2     4     1     4     4     2     4     4   \n",
              "4     2     2     5     2     4     3     4     2     4     3     2     5   \n",
              "\n",
              "   GAD4  GAD5  GAD6  GAD7 CONDITION  \n",
              "0     2     2     3     2         H  \n",
              "1     2     1     3     5         H  \n",
              "2     3     3     3     3         H  \n",
              "3     1     1     1     3         H  \n",
              "4     3     1     5     2         H  "
            ],
            "text/html": [
              "\n",
              "  <div id=\"df-8d2c73d2-14f2-47bc-a0f4-00b69c14c46b\">\n",
              "    <div class=\"colab-df-container\">\n",
              "      <div>\n",
              "<style scoped>\n",
              "    .dataframe tbody tr th:only-of-type {\n",
              "        vertical-align: middle;\n",
              "    }\n",
              "\n",
              "    .dataframe tbody tr th {\n",
              "        vertical-align: top;\n",
              "    }\n",
              "\n",
              "    .dataframe thead th {\n",
              "        text-align: right;\n",
              "    }\n",
              "</style>\n",
              "<table border=\"1\" class=\"dataframe\">\n",
              "  <thead>\n",
              "    <tr style=\"text-align: right;\">\n",
              "      <th></th>\n",
              "      <th>PHQ1</th>\n",
              "      <th>PHQ2</th>\n",
              "      <th>PHQ3</th>\n",
              "      <th>PHQ4</th>\n",
              "      <th>PHQ5</th>\n",
              "      <th>PHQ6</th>\n",
              "      <th>PHQ7</th>\n",
              "      <th>PHQ8</th>\n",
              "      <th>PHQ9</th>\n",
              "      <th>GAD1</th>\n",
              "      <th>GAD2</th>\n",
              "      <th>GAD3</th>\n",
              "      <th>GAD4</th>\n",
              "      <th>GAD5</th>\n",
              "      <th>GAD6</th>\n",
              "      <th>GAD7</th>\n",
              "      <th>CONDITION</th>\n",
              "    </tr>\n",
              "  </thead>\n",
              "  <tbody>\n",
              "    <tr>\n",
              "      <th>0</th>\n",
              "      <td>3</td>\n",
              "      <td>1</td>\n",
              "      <td>1</td>\n",
              "      <td>3</td>\n",
              "      <td>1</td>\n",
              "      <td>1</td>\n",
              "      <td>2</td>\n",
              "      <td>1</td>\n",
              "      <td>2</td>\n",
              "      <td>2</td>\n",
              "      <td>3</td>\n",
              "      <td>2</td>\n",
              "      <td>2</td>\n",
              "      <td>2</td>\n",
              "      <td>3</td>\n",
              "      <td>2</td>\n",
              "      <td>H</td>\n",
              "    </tr>\n",
              "    <tr>\n",
              "      <th>1</th>\n",
              "      <td>2</td>\n",
              "      <td>1</td>\n",
              "      <td>3</td>\n",
              "      <td>3</td>\n",
              "      <td>1</td>\n",
              "      <td>1</td>\n",
              "      <td>3</td>\n",
              "      <td>1</td>\n",
              "      <td>5</td>\n",
              "      <td>3</td>\n",
              "      <td>3</td>\n",
              "      <td>3</td>\n",
              "      <td>2</td>\n",
              "      <td>1</td>\n",
              "      <td>3</td>\n",
              "      <td>5</td>\n",
              "      <td>H</td>\n",
              "    </tr>\n",
              "    <tr>\n",
              "      <th>2</th>\n",
              "      <td>3</td>\n",
              "      <td>2</td>\n",
              "      <td>2</td>\n",
              "      <td>3</td>\n",
              "      <td>4</td>\n",
              "      <td>3</td>\n",
              "      <td>2</td>\n",
              "      <td>2</td>\n",
              "      <td>2</td>\n",
              "      <td>3</td>\n",
              "      <td>2</td>\n",
              "      <td>3</td>\n",
              "      <td>3</td>\n",
              "      <td>3</td>\n",
              "      <td>3</td>\n",
              "      <td>3</td>\n",
              "      <td>H</td>\n",
              "    </tr>\n",
              "    <tr>\n",
              "      <th>3</th>\n",
              "      <td>2</td>\n",
              "      <td>2</td>\n",
              "      <td>4</td>\n",
              "      <td>3</td>\n",
              "      <td>2</td>\n",
              "      <td>4</td>\n",
              "      <td>1</td>\n",
              "      <td>4</td>\n",
              "      <td>4</td>\n",
              "      <td>2</td>\n",
              "      <td>4</td>\n",
              "      <td>4</td>\n",
              "      <td>1</td>\n",
              "      <td>1</td>\n",
              "      <td>1</td>\n",
              "      <td>3</td>\n",
              "      <td>H</td>\n",
              "    </tr>\n",
              "    <tr>\n",
              "      <th>4</th>\n",
              "      <td>2</td>\n",
              "      <td>2</td>\n",
              "      <td>5</td>\n",
              "      <td>2</td>\n",
              "      <td>4</td>\n",
              "      <td>3</td>\n",
              "      <td>4</td>\n",
              "      <td>2</td>\n",
              "      <td>4</td>\n",
              "      <td>3</td>\n",
              "      <td>2</td>\n",
              "      <td>5</td>\n",
              "      <td>3</td>\n",
              "      <td>1</td>\n",
              "      <td>5</td>\n",
              "      <td>2</td>\n",
              "      <td>H</td>\n",
              "    </tr>\n",
              "  </tbody>\n",
              "</table>\n",
              "</div>\n",
              "      <button class=\"colab-df-convert\" onclick=\"convertToInteractive('df-8d2c73d2-14f2-47bc-a0f4-00b69c14c46b')\"\n",
              "              title=\"Convert this dataframe to an interactive table.\"\n",
              "              style=\"display:none;\">\n",
              "        \n",
              "  <svg xmlns=\"http://www.w3.org/2000/svg\" height=\"24px\"viewBox=\"0 0 24 24\"\n",
              "       width=\"24px\">\n",
              "    <path d=\"M0 0h24v24H0V0z\" fill=\"none\"/>\n",
              "    <path d=\"M18.56 5.44l.94 2.06.94-2.06 2.06-.94-2.06-.94-.94-2.06-.94 2.06-2.06.94zm-11 1L8.5 8.5l.94-2.06 2.06-.94-2.06-.94L8.5 2.5l-.94 2.06-2.06.94zm10 10l.94 2.06.94-2.06 2.06-.94-2.06-.94-.94-2.06-.94 2.06-2.06.94z\"/><path d=\"M17.41 7.96l-1.37-1.37c-.4-.4-.92-.59-1.43-.59-.52 0-1.04.2-1.43.59L10.3 9.45l-7.72 7.72c-.78.78-.78 2.05 0 2.83L4 21.41c.39.39.9.59 1.41.59.51 0 1.02-.2 1.41-.59l7.78-7.78 2.81-2.81c.8-.78.8-2.07 0-2.86zM5.41 20L4 18.59l7.72-7.72 1.47 1.35L5.41 20z\"/>\n",
              "  </svg>\n",
              "      </button>\n",
              "      \n",
              "  <style>\n",
              "    .colab-df-container {\n",
              "      display:flex;\n",
              "      flex-wrap:wrap;\n",
              "      gap: 12px;\n",
              "    }\n",
              "\n",
              "    .colab-df-convert {\n",
              "      background-color: #E8F0FE;\n",
              "      border: none;\n",
              "      border-radius: 50%;\n",
              "      cursor: pointer;\n",
              "      display: none;\n",
              "      fill: #1967D2;\n",
              "      height: 32px;\n",
              "      padding: 0 0 0 0;\n",
              "      width: 32px;\n",
              "    }\n",
              "\n",
              "    .colab-df-convert:hover {\n",
              "      background-color: #E2EBFA;\n",
              "      box-shadow: 0px 1px 2px rgba(60, 64, 67, 0.3), 0px 1px 3px 1px rgba(60, 64, 67, 0.15);\n",
              "      fill: #174EA6;\n",
              "    }\n",
              "\n",
              "    [theme=dark] .colab-df-convert {\n",
              "      background-color: #3B4455;\n",
              "      fill: #D2E3FC;\n",
              "    }\n",
              "\n",
              "    [theme=dark] .colab-df-convert:hover {\n",
              "      background-color: #434B5C;\n",
              "      box-shadow: 0px 1px 3px 1px rgba(0, 0, 0, 0.15);\n",
              "      filter: drop-shadow(0px 1px 2px rgba(0, 0, 0, 0.3));\n",
              "      fill: #FFFFFF;\n",
              "    }\n",
              "  </style>\n",
              "\n",
              "      <script>\n",
              "        const buttonEl =\n",
              "          document.querySelector('#df-8d2c73d2-14f2-47bc-a0f4-00b69c14c46b button.colab-df-convert');\n",
              "        buttonEl.style.display =\n",
              "          google.colab.kernel.accessAllowed ? 'block' : 'none';\n",
              "\n",
              "        async function convertToInteractive(key) {\n",
              "          const element = document.querySelector('#df-8d2c73d2-14f2-47bc-a0f4-00b69c14c46b');\n",
              "          const dataTable =\n",
              "            await google.colab.kernel.invokeFunction('convertToInteractive',\n",
              "                                                     [key], {});\n",
              "          if (!dataTable) return;\n",
              "\n",
              "          const docLinkHtml = 'Like what you see? Visit the ' +\n",
              "            '<a target=\"_blank\" href=https://colab.research.google.com/notebooks/data_table.ipynb>data table notebook</a>'\n",
              "            + ' to learn more about interactive tables.';\n",
              "          element.innerHTML = '';\n",
              "          dataTable['output_type'] = 'display_data';\n",
              "          await google.colab.output.renderOutput(dataTable, element);\n",
              "          const docLink = document.createElement('div');\n",
              "          docLink.innerHTML = docLinkHtml;\n",
              "          element.appendChild(docLink);\n",
              "        }\n",
              "      </script>\n",
              "    </div>\n",
              "  </div>\n",
              "  "
            ]
          },
          "metadata": {},
          "execution_count": 6
        }
      ]
    },
    {
      "cell_type": "markdown",
      "source": [
        "## Quick look & check the data"
      ],
      "metadata": {
        "id": "UYL6gxVrVnuG"
      }
    },
    {
      "cell_type": "code",
      "source": [
        "dataset.describe()"
      ],
      "metadata": {
        "colab": {
          "base_uri": "https://localhost:8080/",
          "height": 0
        },
        "id": "vJ0Fu5oQYsHs",
        "outputId": "c48491bc-d2be-45a3-8ffc-7f2631e11a32"
      },
      "execution_count": 7,
      "outputs": [
        {
          "output_type": "execute_result",
          "data": {
            "text/plain": [
              "              PHQ1         PHQ2         PHQ3         PHQ4         PHQ5  \\\n",
              "count  1118.000000  1118.000000  1118.000000  1118.000000  1118.000000   \n",
              "mean      3.252236     3.017889     3.538462     3.588551     3.313953   \n",
              "std       1.470348     1.662597     1.421741     1.329620     1.504634   \n",
              "min       1.000000     1.000000     1.000000     1.000000     1.000000   \n",
              "25%       2.000000     1.000000     2.000000     3.000000     2.000000   \n",
              "50%       3.000000     3.000000     4.000000     4.000000     4.000000   \n",
              "75%       5.000000     5.000000     5.000000     5.000000     5.000000   \n",
              "max       5.000000     5.000000     5.000000     5.000000     5.000000   \n",
              "\n",
              "              PHQ6         PHQ7         PHQ8         PHQ9         GAD1  \\\n",
              "count  1118.000000  1118.000000  1118.000000  1118.000000  1118.000000   \n",
              "mean      3.164580     2.967800     2.903399     3.265653     3.570662   \n",
              "std       1.584876     1.649948     1.652855     1.619626     1.387345   \n",
              "min       1.000000     1.000000     1.000000     1.000000     1.000000   \n",
              "25%       2.000000     1.000000     1.000000     1.000000     2.000000   \n",
              "50%       3.000000     3.000000     3.000000     4.000000     4.000000   \n",
              "75%       5.000000     5.000000     5.000000     5.000000     5.000000   \n",
              "max       5.000000     5.000000     5.000000     5.000000     5.000000   \n",
              "\n",
              "              GAD2         GAD3         GAD4         GAD5         GAD6  \\\n",
              "count  1118.000000  1118.000000  1118.000000  1118.000000  1118.000000   \n",
              "mean      3.722719     3.700358     3.118068     3.111807     3.445438   \n",
              "std       1.265209     1.271765     1.586767     1.552721     1.340830   \n",
              "min       1.000000     1.000000     1.000000     1.000000     1.000000   \n",
              "25%       3.000000     3.000000     1.000000     2.000000     2.000000   \n",
              "50%       4.000000     4.000000     3.000000     3.000000     4.000000   \n",
              "75%       5.000000     5.000000     5.000000     5.000000     5.000000   \n",
              "max       5.000000     5.000000     5.000000     5.000000     5.000000   \n",
              "\n",
              "              GAD7  \n",
              "count  1118.000000  \n",
              "mean      3.732558  \n",
              "std       1.353742  \n",
              "min       1.000000  \n",
              "25%       3.000000  \n",
              "50%       4.000000  \n",
              "75%       5.000000  \n",
              "max       5.000000  "
            ],
            "text/html": [
              "\n",
              "  <div id=\"df-a9b6698e-cdfe-4f2c-9812-0d302f6c090d\">\n",
              "    <div class=\"colab-df-container\">\n",
              "      <div>\n",
              "<style scoped>\n",
              "    .dataframe tbody tr th:only-of-type {\n",
              "        vertical-align: middle;\n",
              "    }\n",
              "\n",
              "    .dataframe tbody tr th {\n",
              "        vertical-align: top;\n",
              "    }\n",
              "\n",
              "    .dataframe thead th {\n",
              "        text-align: right;\n",
              "    }\n",
              "</style>\n",
              "<table border=\"1\" class=\"dataframe\">\n",
              "  <thead>\n",
              "    <tr style=\"text-align: right;\">\n",
              "      <th></th>\n",
              "      <th>PHQ1</th>\n",
              "      <th>PHQ2</th>\n",
              "      <th>PHQ3</th>\n",
              "      <th>PHQ4</th>\n",
              "      <th>PHQ5</th>\n",
              "      <th>PHQ6</th>\n",
              "      <th>PHQ7</th>\n",
              "      <th>PHQ8</th>\n",
              "      <th>PHQ9</th>\n",
              "      <th>GAD1</th>\n",
              "      <th>GAD2</th>\n",
              "      <th>GAD3</th>\n",
              "      <th>GAD4</th>\n",
              "      <th>GAD5</th>\n",
              "      <th>GAD6</th>\n",
              "      <th>GAD7</th>\n",
              "    </tr>\n",
              "  </thead>\n",
              "  <tbody>\n",
              "    <tr>\n",
              "      <th>count</th>\n",
              "      <td>1118.000000</td>\n",
              "      <td>1118.000000</td>\n",
              "      <td>1118.000000</td>\n",
              "      <td>1118.000000</td>\n",
              "      <td>1118.000000</td>\n",
              "      <td>1118.000000</td>\n",
              "      <td>1118.000000</td>\n",
              "      <td>1118.000000</td>\n",
              "      <td>1118.000000</td>\n",
              "      <td>1118.000000</td>\n",
              "      <td>1118.000000</td>\n",
              "      <td>1118.000000</td>\n",
              "      <td>1118.000000</td>\n",
              "      <td>1118.000000</td>\n",
              "      <td>1118.000000</td>\n",
              "      <td>1118.000000</td>\n",
              "    </tr>\n",
              "    <tr>\n",
              "      <th>mean</th>\n",
              "      <td>3.252236</td>\n",
              "      <td>3.017889</td>\n",
              "      <td>3.538462</td>\n",
              "      <td>3.588551</td>\n",
              "      <td>3.313953</td>\n",
              "      <td>3.164580</td>\n",
              "      <td>2.967800</td>\n",
              "      <td>2.903399</td>\n",
              "      <td>3.265653</td>\n",
              "      <td>3.570662</td>\n",
              "      <td>3.722719</td>\n",
              "      <td>3.700358</td>\n",
              "      <td>3.118068</td>\n",
              "      <td>3.111807</td>\n",
              "      <td>3.445438</td>\n",
              "      <td>3.732558</td>\n",
              "    </tr>\n",
              "    <tr>\n",
              "      <th>std</th>\n",
              "      <td>1.470348</td>\n",
              "      <td>1.662597</td>\n",
              "      <td>1.421741</td>\n",
              "      <td>1.329620</td>\n",
              "      <td>1.504634</td>\n",
              "      <td>1.584876</td>\n",
              "      <td>1.649948</td>\n",
              "      <td>1.652855</td>\n",
              "      <td>1.619626</td>\n",
              "      <td>1.387345</td>\n",
              "      <td>1.265209</td>\n",
              "      <td>1.271765</td>\n",
              "      <td>1.586767</td>\n",
              "      <td>1.552721</td>\n",
              "      <td>1.340830</td>\n",
              "      <td>1.353742</td>\n",
              "    </tr>\n",
              "    <tr>\n",
              "      <th>min</th>\n",
              "      <td>1.000000</td>\n",
              "      <td>1.000000</td>\n",
              "      <td>1.000000</td>\n",
              "      <td>1.000000</td>\n",
              "      <td>1.000000</td>\n",
              "      <td>1.000000</td>\n",
              "      <td>1.000000</td>\n",
              "      <td>1.000000</td>\n",
              "      <td>1.000000</td>\n",
              "      <td>1.000000</td>\n",
              "      <td>1.000000</td>\n",
              "      <td>1.000000</td>\n",
              "      <td>1.000000</td>\n",
              "      <td>1.000000</td>\n",
              "      <td>1.000000</td>\n",
              "      <td>1.000000</td>\n",
              "    </tr>\n",
              "    <tr>\n",
              "      <th>25%</th>\n",
              "      <td>2.000000</td>\n",
              "      <td>1.000000</td>\n",
              "      <td>2.000000</td>\n",
              "      <td>3.000000</td>\n",
              "      <td>2.000000</td>\n",
              "      <td>2.000000</td>\n",
              "      <td>1.000000</td>\n",
              "      <td>1.000000</td>\n",
              "      <td>1.000000</td>\n",
              "      <td>2.000000</td>\n",
              "      <td>3.000000</td>\n",
              "      <td>3.000000</td>\n",
              "      <td>1.000000</td>\n",
              "      <td>2.000000</td>\n",
              "      <td>2.000000</td>\n",
              "      <td>3.000000</td>\n",
              "    </tr>\n",
              "    <tr>\n",
              "      <th>50%</th>\n",
              "      <td>3.000000</td>\n",
              "      <td>3.000000</td>\n",
              "      <td>4.000000</td>\n",
              "      <td>4.000000</td>\n",
              "      <td>4.000000</td>\n",
              "      <td>3.000000</td>\n",
              "      <td>3.000000</td>\n",
              "      <td>3.000000</td>\n",
              "      <td>4.000000</td>\n",
              "      <td>4.000000</td>\n",
              "      <td>4.000000</td>\n",
              "      <td>4.000000</td>\n",
              "      <td>3.000000</td>\n",
              "      <td>3.000000</td>\n",
              "      <td>4.000000</td>\n",
              "      <td>4.000000</td>\n",
              "    </tr>\n",
              "    <tr>\n",
              "      <th>75%</th>\n",
              "      <td>5.000000</td>\n",
              "      <td>5.000000</td>\n",
              "      <td>5.000000</td>\n",
              "      <td>5.000000</td>\n",
              "      <td>5.000000</td>\n",
              "      <td>5.000000</td>\n",
              "      <td>5.000000</td>\n",
              "      <td>5.000000</td>\n",
              "      <td>5.000000</td>\n",
              "      <td>5.000000</td>\n",
              "      <td>5.000000</td>\n",
              "      <td>5.000000</td>\n",
              "      <td>5.000000</td>\n",
              "      <td>5.000000</td>\n",
              "      <td>5.000000</td>\n",
              "      <td>5.000000</td>\n",
              "    </tr>\n",
              "    <tr>\n",
              "      <th>max</th>\n",
              "      <td>5.000000</td>\n",
              "      <td>5.000000</td>\n",
              "      <td>5.000000</td>\n",
              "      <td>5.000000</td>\n",
              "      <td>5.000000</td>\n",
              "      <td>5.000000</td>\n",
              "      <td>5.000000</td>\n",
              "      <td>5.000000</td>\n",
              "      <td>5.000000</td>\n",
              "      <td>5.000000</td>\n",
              "      <td>5.000000</td>\n",
              "      <td>5.000000</td>\n",
              "      <td>5.000000</td>\n",
              "      <td>5.000000</td>\n",
              "      <td>5.000000</td>\n",
              "      <td>5.000000</td>\n",
              "    </tr>\n",
              "  </tbody>\n",
              "</table>\n",
              "</div>\n",
              "      <button class=\"colab-df-convert\" onclick=\"convertToInteractive('df-a9b6698e-cdfe-4f2c-9812-0d302f6c090d')\"\n",
              "              title=\"Convert this dataframe to an interactive table.\"\n",
              "              style=\"display:none;\">\n",
              "        \n",
              "  <svg xmlns=\"http://www.w3.org/2000/svg\" height=\"24px\"viewBox=\"0 0 24 24\"\n",
              "       width=\"24px\">\n",
              "    <path d=\"M0 0h24v24H0V0z\" fill=\"none\"/>\n",
              "    <path d=\"M18.56 5.44l.94 2.06.94-2.06 2.06-.94-2.06-.94-.94-2.06-.94 2.06-2.06.94zm-11 1L8.5 8.5l.94-2.06 2.06-.94-2.06-.94L8.5 2.5l-.94 2.06-2.06.94zm10 10l.94 2.06.94-2.06 2.06-.94-2.06-.94-.94-2.06-.94 2.06-2.06.94z\"/><path d=\"M17.41 7.96l-1.37-1.37c-.4-.4-.92-.59-1.43-.59-.52 0-1.04.2-1.43.59L10.3 9.45l-7.72 7.72c-.78.78-.78 2.05 0 2.83L4 21.41c.39.39.9.59 1.41.59.51 0 1.02-.2 1.41-.59l7.78-7.78 2.81-2.81c.8-.78.8-2.07 0-2.86zM5.41 20L4 18.59l7.72-7.72 1.47 1.35L5.41 20z\"/>\n",
              "  </svg>\n",
              "      </button>\n",
              "      \n",
              "  <style>\n",
              "    .colab-df-container {\n",
              "      display:flex;\n",
              "      flex-wrap:wrap;\n",
              "      gap: 12px;\n",
              "    }\n",
              "\n",
              "    .colab-df-convert {\n",
              "      background-color: #E8F0FE;\n",
              "      border: none;\n",
              "      border-radius: 50%;\n",
              "      cursor: pointer;\n",
              "      display: none;\n",
              "      fill: #1967D2;\n",
              "      height: 32px;\n",
              "      padding: 0 0 0 0;\n",
              "      width: 32px;\n",
              "    }\n",
              "\n",
              "    .colab-df-convert:hover {\n",
              "      background-color: #E2EBFA;\n",
              "      box-shadow: 0px 1px 2px rgba(60, 64, 67, 0.3), 0px 1px 3px 1px rgba(60, 64, 67, 0.15);\n",
              "      fill: #174EA6;\n",
              "    }\n",
              "\n",
              "    [theme=dark] .colab-df-convert {\n",
              "      background-color: #3B4455;\n",
              "      fill: #D2E3FC;\n",
              "    }\n",
              "\n",
              "    [theme=dark] .colab-df-convert:hover {\n",
              "      background-color: #434B5C;\n",
              "      box-shadow: 0px 1px 3px 1px rgba(0, 0, 0, 0.15);\n",
              "      filter: drop-shadow(0px 1px 2px rgba(0, 0, 0, 0.3));\n",
              "      fill: #FFFFFF;\n",
              "    }\n",
              "  </style>\n",
              "\n",
              "      <script>\n",
              "        const buttonEl =\n",
              "          document.querySelector('#df-a9b6698e-cdfe-4f2c-9812-0d302f6c090d button.colab-df-convert');\n",
              "        buttonEl.style.display =\n",
              "          google.colab.kernel.accessAllowed ? 'block' : 'none';\n",
              "\n",
              "        async function convertToInteractive(key) {\n",
              "          const element = document.querySelector('#df-a9b6698e-cdfe-4f2c-9812-0d302f6c090d');\n",
              "          const dataTable =\n",
              "            await google.colab.kernel.invokeFunction('convertToInteractive',\n",
              "                                                     [key], {});\n",
              "          if (!dataTable) return;\n",
              "\n",
              "          const docLinkHtml = 'Like what you see? Visit the ' +\n",
              "            '<a target=\"_blank\" href=https://colab.research.google.com/notebooks/data_table.ipynb>data table notebook</a>'\n",
              "            + ' to learn more about interactive tables.';\n",
              "          element.innerHTML = '';\n",
              "          dataTable['output_type'] = 'display_data';\n",
              "          await google.colab.output.renderOutput(dataTable, element);\n",
              "          const docLink = document.createElement('div');\n",
              "          docLink.innerHTML = docLinkHtml;\n",
              "          element.appendChild(docLink);\n",
              "        }\n",
              "      </script>\n",
              "    </div>\n",
              "  </div>\n",
              "  "
            ]
          },
          "metadata": {},
          "execution_count": 7
        }
      ]
    },
    {
      "cell_type": "markdown",
      "source": [
        "### Data clean check"
      ],
      "metadata": {
        "id": "TwuakQg3V-P4"
      }
    },
    {
      "cell_type": "code",
      "source": [
        "def check_data(dataset_):\n",
        "    # Check is any NAN values\n",
        "    assert dataset_.isna().sum().sum() == 0\n",
        "\n",
        "    # Check that all values are in appropriate range\n",
        "    assert (dataset_.values[:, :-1] <= 5).all() \\\n",
        "        & (dataset_.values[:, :-1] >= 0).all()\n",
        "\n",
        "check_data(dataset)"
      ],
      "metadata": {
        "id": "wzT3sageVpX3"
      },
      "execution_count": 8,
      "outputs": []
    },
    {
      "cell_type": "markdown",
      "source": [
        "### Class balance"
      ],
      "metadata": {
        "id": "ccu3VqcVV_oh"
      }
    },
    {
      "cell_type": "code",
      "source": [
        "ax = dataset.CONDITION.value_counts().plot(kind='bar')\n",
        "ax.grid()"
      ],
      "metadata": {
        "colab": {
          "base_uri": "https://localhost:8080/",
          "height": 0
        },
        "id": "gCAYMtiKWAjb",
        "outputId": "72afe463-c66b-4e2a-8886-b97e6ba8c9e9"
      },
      "execution_count": 9,
      "outputs": [
        {
          "output_type": "display_data",
          "data": {
            "text/plain": [
              "<Figure size 432x288 with 1 Axes>"
            ],
            "image/png": "[encoded data removed]"
          },
          "metadata": {
            "needs_background": "light"
          }
        }
      ]
    },
    {
      "cell_type": "markdown",
      "source": [
        "## Create trainval + test sets"
      ],
      "metadata": {
        "id": "tIaxHoG-ZOoj"
      }
    },
    {
      "cell_type": "markdown",
      "source": [
        "- Use stratified sampling, to support the same class balance in train, validation and test sets\n",
        "- For training the model (and exploring the data for optimizing the model), we split the dataset into train, validation & test sets with train_test_split function of sklearn (which shuffles the dataset and disrupts the initial structure)\n",
        "- For gaining psychological insights, we sample the exploration set out of the initial set, **complying with the initial structure** (e.g. if we sample 50% of the dataset --> the sampled data contains honest and dishonest response of the same people, and the structure of the dataset is the same)"
      ],
      "metadata": {
        "id": "fnRwsxpNZvAk"
      }
    },
    {
      "cell_type": "markdown",
      "source": [
        "### Data sampling for the model"
      ],
      "metadata": {
        "id": "T4ujPKdhn_M5"
      }
    },
    {
      "cell_type": "code",
      "source": [
        "TRAINVAL_SIZE = 0.8\n",
        "TRAIN_SIZE = 0.8\n",
        "RANDOM_STATE = 42\n",
        "\n",
        "df_trainval, df_test = train_test_split(\n",
        "    dataset,\n",
        "    train_size=TRAINVAL_SIZE,\n",
        "    random_state=RANDOM_STATE,\n",
        "    stratify=dataset.CONDITION\n",
        ")\n",
        "\n",
        "print(df_trainval.shape, df_test.shape)\n",
        "\n",
        "pep8(_ih)"
      ],
      "metadata": {
        "colab": {
          "base_uri": "https://localhost:8080/"
        },
        "id": "bgvig1TDZSHf",
        "outputId": "61f7c3de-6d12-424d-8b75-a9d2d52ef31c"
      },
      "execution_count": 10,
      "outputs": [
        {
          "output_type": "stream",
          "name": "stdout",
          "text": [
            "(894, 17) (224, 17)\n",
            "\n"
          ]
        }
      ]
    },
    {
      "cell_type": "code",
      "source": [
        "df_train, df_validation = train_test_split(\n",
        "    df_trainval,\n",
        "    train_size=TRAIN_SIZE,\n",
        "    random_state=RANDOM_STATE,\n",
        "    stratify=df_trainval.CONDITION\n",
        ")\n",
        "\n",
        "print(df_train.shape, df_validation.shape)\n",
        "pep8(_ih)"
      ],
      "metadata": {
        "colab": {
          "base_uri": "https://localhost:8080/"
        },
        "id": "GOITWBuJbutm",
        "outputId": "9d812dab-ab49-44ee-c485-3dacfd0192c2"
      },
      "execution_count": 11,
      "outputs": [
        {
          "output_type": "stream",
          "name": "stdout",
          "text": [
            "(715, 17) (179, 17)\n",
            "\n"
          ]
        }
      ]
    },
    {
      "cell_type": "markdown",
      "source": [
        "### Data sampling for psycholodical insights"
      ],
      "metadata": {
        "id": "7mHi2R7UoBaY"
      }
    },
    {
      "cell_type": "code",
      "source": [
        "def prepare_sample(\n",
        "    dataset_,\n",
        "    sample_size_,\n",
        "    random_state_=RANDOM_STATE\n",
        "):\n",
        "    # Assume the proper structure of the dataset\n",
        "    # (even number of rows - first honest, then dishonest\n",
        "    # responses)\n",
        "\n",
        "    '''\n",
        "    We split the dataset into 2 halves (of honest and dishonest responses)\n",
        "    Then generate a sample of random indices, subsample same sample from honest\n",
        "    half, and dishonest half. And concatenate the samples\n",
        "    '''\n",
        "\n",
        "    honest_subset = pd.DataFrame(\n",
        "        dataset_.loc[: (dataset_.shape[0] / 2) - 1]\n",
        "    )\n",
        "    dishonest_subset = pd.DataFrame(\n",
        "        dataset_.loc[dataset_.shape[0] / 2:]\n",
        "    )\n",
        "\n",
        "    dishonest_subset.reset_index(inplace=True)\n",
        "    dishonest_subset.drop(['index'], axis='columns', inplace=True)\n",
        "\n",
        "    assert honest_subset.shape[0] == dishonest_subset.shape[0]\n",
        "    assert honest_subset.shape[0] + dishonest_subset.shape[0] \\\n",
        "        == dataset.shape[0]\n",
        "    assert honest_subset.CONDITION.nunique() \\\n",
        "        == dishonest_subset.CONDITION.nunique() \\\n",
        "        == 1\n",
        "    assert (honest_subset.index == dishonest_subset.index).all()\n",
        "\n",
        "    np.random.seed(random_state_)\n",
        "\n",
        "    sample = np.random.choice(\n",
        "        range(honest_subset.shape[0]),\n",
        "        replace=False,\n",
        "        size=int(honest_subset.shape[0] * sample_size_)\n",
        "    )\n",
        "\n",
        "    res = pd.concat(\n",
        "        [\n",
        "            honest_subset.loc[sample],\n",
        "            dishonest_subset.loc[sample]\n",
        "        ]\n",
        "    )\n",
        "    assert res.shape[1] \\\n",
        "        == honest_subset.shape[1] \\\n",
        "        == dishonest_subset.shape[1]\n",
        "\n",
        "    return res\n",
        "\n",
        "\n",
        "pep8(_ih)"
      ],
      "metadata": {
        "colab": {
          "base_uri": "https://localhost:8080/"
        },
        "id": "V6B3fc3DshGB",
        "outputId": "fe3a7439-28d2-423d-e5dc-b7c451b74210"
      },
      "execution_count": 12,
      "outputs": [
        {
          "output_type": "stream",
          "name": "stdout",
          "text": [
            "\n"
          ]
        }
      ]
    },
    {
      "cell_type": "code",
      "source": [
        "def verify_sample_correctness(df_original_, df_sampled_):\n",
        "    for i in df_sampled_.index:\n",
        "        # assert that both Honest and Dishonest conditions are present\n",
        "        assert len(df_sampled_.index[df_sampled_.index == i]) == 2\n",
        "        assert 'H' in df_sampled_.loc[i].CONDITION.values \\\n",
        "            and 'D' in df_sampled_.loc[i].CONDITION.values\n",
        "\n",
        "        # Sample of honest and dishonest response of the same\n",
        "        # person in original dataset\n",
        "        original_sample = df_original_.loc[\n",
        "            [i, int(df_original_.shape[0] / 2) + i]\n",
        "        ]\n",
        "        assert (original_sample.values == df_sampled_.loc[i].values).all()\n",
        "\n",
        "\n",
        "pep8(_ih)"
      ],
      "metadata": {
        "colab": {
          "base_uri": "https://localhost:8080/"
        },
        "id": "QkAk58hHDPKi",
        "outputId": "9d5d2f28-2176-4765-8e66-ad111cf6e0a7"
      },
      "execution_count": 71,
      "outputs": [
        {
          "output_type": "stream",
          "name": "stdout",
          "text": [
            "\n"
          ]
        }
      ]
    },
    {
      "cell_type": "code",
      "source": [
        "PSYCHOLOGIC_SAMPLE_SIZE = 0.7\n",
        "\n",
        "df_sample = prepare_sample(\n",
        "    dataset,\n",
        "    sample_size_=PSYCHOLOGIC_SAMPLE_SIZE,\n",
        "    random_state_=RANDOM_STATE\n",
        ")\n",
        "\n",
        "verify_sample_correctness(dataset, df_sample)\n",
        "df_sample.head()"
      ],
      "metadata": {
        "colab": {
          "base_uri": "https://localhost:8080/",
          "height": 206
        },
        "id": "3aDAb70Wsmx0",
        "outputId": "f5db0104-ada2-4103-e98b-1af18966fb5d"
      },
      "execution_count": 70,
      "outputs": [
        {
          "output_type": "execute_result",
          "data": {
            "text/plain": [
              "     PHQ1  PHQ2  PHQ3  PHQ4  PHQ5  PHQ6  PHQ7  PHQ8  PHQ9  GAD1  GAD2  GAD3  \\\n",
              "158     3     3     4     4     3     2     3     2     1     4     3     4   \n",
              "451     2     1     2     2     1     2     1     1     1     2     2     1   \n",
              "55      2     1     4     3     2     1     2     1     5     2     3     2   \n",
              "247     2     1     2     2     2     1     2     1     1     1     3     3   \n",
              "70      1     1     2     2     1     1     2     2     5     1     3     2   \n",
              "\n",
              "     GAD4  GAD5  GAD6  GAD7 CONDITION  \n",
              "158     4     1     4     5         H  \n",
              "451     2     4     2     1         H  \n",
              "55      2     1     3     4         H  \n",
              "247     3     1     1     2         H  \n",
              "70      1     1     2     3         H  "
            ],
            "text/html": [
              "\n",
              "  <div id=\"df-7acde6b8-fe67-4554-8068-de66357559a3\">\n",
              "    <div class=\"colab-df-container\">\n",
              "      <div>\n",
              "<style scoped>\n",
              "    .dataframe tbody tr th:only-of-type {\n",
              "        vertical-align: middle;\n",
              "    }\n",
              "\n",
              "    .dataframe tbody tr th {\n",
              "        vertical-align: top;\n",
              "    }\n",
              "\n",
              "    .dataframe thead th {\n",
              "        text-align: right;\n",
              "    }\n",
              "</style>\n",
              "<table border=\"1\" class=\"dataframe\">\n",
              "  <thead>\n",
              "    <tr style=\"text-align: right;\">\n",
              "      <th></th>\n",
              "      <th>PHQ1</th>\n",
              "      <th>PHQ2</th>\n",
              "      <th>PHQ3</th>\n",
              "      <th>PHQ4</th>\n",
              "      <th>PHQ5</th>\n",
              "      <th>PHQ6</th>\n",
              "      <th>PHQ7</th>\n",
              "      <th>PHQ8</th>\n",
              "      <th>PHQ9</th>\n",
              "      <th>GAD1</th>\n",
              "      <th>GAD2</th>\n",
              "      <th>GAD3</th>\n",
              "      <th>GAD4</th>\n",
              "      <th>GAD5</th>\n",
              "      <th>GAD6</th>\n",
              "      <th>GAD7</th>\n",
              "      <th>CONDITION</th>\n",
              "    </tr>\n",
              "  </thead>\n",
              "  <tbody>\n",
              "    <tr>\n",
              "      <th>158</th>\n",
              "      <td>3</td>\n",
              "      <td>3</td>\n",
              "      <td>4</td>\n",
              "      <td>4</td>\n",
              "      <td>3</td>\n",
              "      <td>2</td>\n",
              "      <td>3</td>\n",
              "      <td>2</td>\n",
              "      <td>1</td>\n",
              "      <td>4</td>\n",
              "      <td>3</td>\n",
              "      <td>4</td>\n",
              "      <td>4</td>\n",
              "      <td>1</td>\n",
              "      <td>4</td>\n",
              "      <td>5</td>\n",
              "      <td>H</td>\n",
              "    </tr>\n",
              "    <tr>\n",
              "      <th>451</th>\n",
              "      <td>2</td>\n",
              "      <td>1</td>\n",
              "      <td>2</td>\n",
              "      <td>2</td>\n",
              "      <td>1</td>\n",
              "      <td>2</td>\n",
              "      <td>1</td>\n",
              "      <td>1</td>\n",
              "      <td>1</td>\n",
              "      <td>2</td>\n",
              "      <td>2</td>\n",
              "      <td>1</td>\n",
              "      <td>2</td>\n",
              "      <td>4</td>\n",
              "      <td>2</td>\n",
              "      <td>1</td>\n",
              "      <td>H</td>\n",
              "    </tr>\n",
              "    <tr>\n",
              "      <th>55</th>\n",
              "      <td>2</td>\n",
              "      <td>1</td>\n",
              "      <td>4</td>\n",
              "      <td>3</td>\n",
              "      <td>2</td>\n",
              "      <td>1</td>\n",
              "      <td>2</td>\n",
              "      <td>1</td>\n",
              "      <td>5</td>\n",
              "      <td>2</td>\n",
              "      <td>3</td>\n",
              "      <td>2</td>\n",
              "      <td>2</td>\n",
              "      <td>1</td>\n",
              "      <td>3</td>\n",
              "      <td>4</td>\n",
              "      <td>H</td>\n",
              "    </tr>\n",
              "    <tr>\n",
              "      <th>247</th>\n",
              "      <td>2</td>\n",
              "      <td>1</td>\n",
              "      <td>2</td>\n",
              "      <td>2</td>\n",
              "      <td>2</td>\n",
              "      <td>1</td>\n",
              "      <td>2</td>\n",
              "      <td>1</td>\n",
              "      <td>1</td>\n",
              "      <td>1</td>\n",
              "      <td>3</td>\n",
              "      <td>3</td>\n",
              "      <td>3</td>\n",
              "      <td>1</td>\n",
              "      <td>1</td>\n",
              "      <td>2</td>\n",
              "      <td>H</td>\n",
              "    </tr>\n",
              "    <tr>\n",
              "      <th>70</th>\n",
              "      <td>1</td>\n",
              "      <td>1</td>\n",
              "      <td>2</td>\n",
              "      <td>2</td>\n",
              "      <td>1</td>\n",
              "      <td>1</td>\n",
              "      <td>2</td>\n",
              "      <td>2</td>\n",
              "      <td>5</td>\n",
              "      <td>1</td>\n",
              "      <td>3</td>\n",
              "      <td>2</td>\n",
              "      <td>1</td>\n",
              "      <td>1</td>\n",
              "      <td>2</td>\n",
              "      <td>3</td>\n",
              "      <td>H</td>\n",
              "    </tr>\n",
              "  </tbody>\n",
              "</table>\n",
              "</div>\n",
              "      <button class=\"colab-df-convert\" onclick=\"convertToInteractive('df-7acde6b8-fe67-4554-8068-de66357559a3')\"\n",
              "              title=\"Convert this dataframe to an interactive table.\"\n",
              "              style=\"display:none;\">\n",
              "        \n",
              "  <svg xmlns=\"http://www.w3.org/2000/svg\" height=\"24px\"viewBox=\"0 0 24 24\"\n",
              "       width=\"24px\">\n",
              "    <path d=\"M0 0h24v24H0V0z\" fill=\"none\"/>\n",
              "    <path d=\"M18.56 5.44l.94 2.06.94-2.06 2.06-.94-2.06-.94-.94-2.06-.94 2.06-2.06.94zm-11 1L8.5 8.5l.94-2.06 2.06-.94-2.06-.94L8.5 2.5l-.94 2.06-2.06.94zm10 10l.94 2.06.94-2.06 2.06-.94-2.06-.94-.94-2.06-.94 2.06-2.06.94z\"/><path d=\"M17.41 7.96l-1.37-1.37c-.4-.4-.92-.59-1.43-.59-.52 0-1.04.2-1.43.59L10.3 9.45l-7.72 7.72c-.78.78-.78 2.05 0 2.83L4 21.41c.39.39.9.59 1.41.59.51 0 1.02-.2 1.41-.59l7.78-7.78 2.81-2.81c.8-.78.8-2.07 0-2.86zM5.41 20L4 18.59l7.72-7.72 1.47 1.35L5.41 20z\"/>\n",
              "  </svg>\n",
              "      </button>\n",
              "      \n",
              "  <style>\n",
              "    .colab-df-container {\n",
              "      display:flex;\n",
              "      flex-wrap:wrap;\n",
              "      gap: 12px;\n",
              "    }\n",
              "\n",
              "    .colab-df-convert {\n",
              "      background-color: #E8F0FE;\n",
              "      border: none;\n",
              "      border-radius: 50%;\n",
              "      cursor: pointer;\n",
              "      display: none;\n",
              "      fill: #1967D2;\n",
              "      height: 32px;\n",
              "      padding: 0 0 0 0;\n",
              "      width: 32px;\n",
              "    }\n",
              "\n",
              "    .colab-df-convert:hover {\n",
              "      background-color: #E2EBFA;\n",
              "      box-shadow: 0px 1px 2px rgba(60, 64, 67, 0.3), 0px 1px 3px 1px rgba(60, 64, 67, 0.15);\n",
              "      fill: #174EA6;\n",
              "    }\n",
              "\n",
              "    [theme=dark] .colab-df-convert {\n",
              "      background-color: #3B4455;\n",
              "      fill: #D2E3FC;\n",
              "    }\n",
              "\n",
              "    [theme=dark] .colab-df-convert:hover {\n",
              "      background-color: #434B5C;\n",
              "      box-shadow: 0px 1px 3px 1px rgba(0, 0, 0, 0.15);\n",
              "      filter: drop-shadow(0px 1px 2px rgba(0, 0, 0, 0.3));\n",
              "      fill: #FFFFFF;\n",
              "    }\n",
              "  </style>\n",
              "\n",
              "      <script>\n",
              "        const buttonEl =\n",
              "          document.querySelector('#df-7acde6b8-fe67-4554-8068-de66357559a3 button.colab-df-convert');\n",
              "        buttonEl.style.display =\n",
              "          google.colab.kernel.accessAllowed ? 'block' : 'none';\n",
              "\n",
              "        async function convertToInteractive(key) {\n",
              "          const element = document.querySelector('#df-7acde6b8-fe67-4554-8068-de66357559a3');\n",
              "          const dataTable =\n",
              "            await google.colab.kernel.invokeFunction('convertToInteractive',\n",
              "                                                     [key], {});\n",
              "          if (!dataTable) return;\n",
              "\n",
              "          const docLinkHtml = 'Like what you see? Visit the ' +\n",
              "            '<a target=\"_blank\" href=https://colab.research.google.com/notebooks/data_table.ipynb>data table notebook</a>'\n",
              "            + ' to learn more about interactive tables.';\n",
              "          element.innerHTML = '';\n",
              "          dataTable['output_type'] = 'display_data';\n",
              "          await google.colab.output.renderOutput(dataTable, element);\n",
              "          const docLink = document.createElement('div');\n",
              "          docLink.innerHTML = docLinkHtml;\n",
              "          element.appendChild(docLink);\n",
              "        }\n",
              "      </script>\n",
              "    </div>\n",
              "  </div>\n",
              "  "
            ]
          },
          "metadata": {},
          "execution_count": 70
        }
      ]
    },
    {
      "cell_type": "markdown",
      "source": [
        "## Data exploration (on train set only)"
      ],
      "metadata": {
        "id": "9HBMKN8NZ833"
      }
    },
    {
      "cell_type": "markdown",
      "source": [
        "### Insight №1 - Averaged across patients, relative change in response for malinglers is from 46% to 197% (exaggerated)"
      ],
      "metadata": {
        "id": "32O3JXk9ikKK"
      }
    },
    {
      "cell_type": "code",
      "source": [
        "df_train_honest = df_train[df_train['CONDITION'] == 'H']\n",
        "df_train_dishonest = df_train[df_train['CONDITION'] == 'D']\n",
        "\n",
        "result = {}\n",
        "\n",
        "for question in df_train.columns[df_train.columns != 'CONDITION']:\n",
        "   mean_response_honest = df_train_honest[question].mean()\n",
        "   mean_response_dishonest = df_train_dishonest[question].mean()\n",
        "\n",
        "   result[question] = {\n",
        "       'honest': mean_response_honest,\n",
        "       'dishonest': mean_response_dishonest\n",
        "   }\n",
        "\n",
        "responses = pd.DataFrame(result).transpose()"
      ],
      "metadata": {
        "id": "TteD847LdEbJ"
      },
      "execution_count": 72,
      "outputs": []
    },
    {
      "cell_type": "code",
      "source": [
        "responses['relative_delta'] = \\\n",
        "    (responses['dishonest'] - responses['honest']) \\\n",
        "    / (responses['honest'])\n",
        "\n",
        "ax = responses.plot(kind='bar')\n",
        "ax.grid()\n",
        "\n",
        "print(responses.relative_delta.max(), responses.relative_delta.min())"
      ],
      "metadata": {
        "colab": {
          "base_uri": "https://localhost:8080/",
          "height": 301
        },
        "id": "nOH8GcS-e5YJ",
        "outputId": "f1512f66-d2fd-40f1-8d13-0fde118e0c2d"
      },
      "execution_count": 73,
      "outputs": [
        {
          "output_type": "stream",
          "name": "stdout",
          "text": [
            "1.9736910148674853 0.46296499908374555\n"
          ]
        },
        {
          "output_type": "display_data",
          "data": {
            "text/plain": [
              "<Figure size 432x288 with 1 Axes>"
            ],
            "image/png": "[encoded data removed]"
          },
          "metadata": {
            "needs_background": "light"
          }
        }
      ]
    },
    {
      "cell_type": "code",
      "source": [
        "responses.head()"
      ],
      "metadata": {
        "colab": {
          "base_uri": "https://localhost:8080/",
          "height": 206
        },
        "id": "Dzl8mmHAD8uz",
        "outputId": "ebfbe129-c5d7-4b52-d1f7-f3760d7f0bac"
      },
      "execution_count": 82,
      "outputs": [
        {
          "output_type": "execute_result",
          "data": {
            "text/plain": [
              "        honest  dishonest  relative_delta\n",
              "PHQ1  2.150838   4.392157        1.042068\n",
              "PHQ2  1.581006   4.450980        1.815284\n",
              "PHQ3  2.553073   4.546218        0.780685\n",
              "PHQ4  2.622905   4.521008        0.723665\n",
              "PHQ5  2.231844   4.358543        0.952889"
            ],
            "text/html": [
              "\n",
              "  <div id=\"df-f3b6a9b6-25a2-4b0a-8473-36ad12683be8\">\n",
              "    <div class=\"colab-df-container\">\n",
              "      <div>\n",
              "<style scoped>\n",
              "    .dataframe tbody tr th:only-of-type {\n",
              "        vertical-align: middle;\n",
              "    }\n",
              "\n",
              "    .dataframe tbody tr th {\n",
              "        vertical-align: top;\n",
              "    }\n",
              "\n",
              "    .dataframe thead th {\n",
              "        text-align: right;\n",
              "    }\n",
              "</style>\n",
              "<table border=\"1\" class=\"dataframe\">\n",
              "  <thead>\n",
              "    <tr style=\"text-align: right;\">\n",
              "      <th></th>\n",
              "      <th>honest</th>\n",
              "      <th>dishonest</th>\n",
              "      <th>relative_delta</th>\n",
              "    </tr>\n",
              "  </thead>\n",
              "  <tbody>\n",
              "    <tr>\n",
              "      <th>PHQ1</th>\n",
              "      <td>2.150838</td>\n",
              "      <td>4.392157</td>\n",
              "      <td>1.042068</td>\n",
              "    </tr>\n",
              "    <tr>\n",
              "      <th>PHQ2</th>\n",
              "      <td>1.581006</td>\n",
              "      <td>4.450980</td>\n",
              "      <td>1.815284</td>\n",
              "    </tr>\n",
              "    <tr>\n",
              "      <th>PHQ3</th>\n",
              "      <td>2.553073</td>\n",
              "      <td>4.546218</td>\n",
              "      <td>0.780685</td>\n",
              "    </tr>\n",
              "    <tr>\n",
              "      <th>PHQ4</th>\n",
              "      <td>2.622905</td>\n",
              "      <td>4.521008</td>\n",
              "      <td>0.723665</td>\n",
              "    </tr>\n",
              "    <tr>\n",
              "      <th>PHQ5</th>\n",
              "      <td>2.231844</td>\n",
              "      <td>4.358543</td>\n",
              "      <td>0.952889</td>\n",
              "    </tr>\n",
              "  </tbody>\n",
              "</table>\n",
              "</div>\n",
              "      <button class=\"colab-df-convert\" onclick=\"convertToInteractive('df-f3b6a9b6-25a2-4b0a-8473-36ad12683be8')\"\n",
              "              title=\"Convert this dataframe to an interactive table.\"\n",
              "              style=\"display:none;\">\n",
              "        \n",
              "  <svg xmlns=\"http://www.w3.org/2000/svg\" height=\"24px\"viewBox=\"0 0 24 24\"\n",
              "       width=\"24px\">\n",
              "    <path d=\"M0 0h24v24H0V0z\" fill=\"none\"/>\n",
              "    <path d=\"M18.56 5.44l.94 2.06.94-2.06 2.06-.94-2.06-.94-.94-2.06-.94 2.06-2.06.94zm-11 1L8.5 8.5l.94-2.06 2.06-.94-2.06-.94L8.5 2.5l-.94 2.06-2.06.94zm10 10l.94 2.06.94-2.06 2.06-.94-2.06-.94-.94-2.06-.94 2.06-2.06.94z\"/><path d=\"M17.41 7.96l-1.37-1.37c-.4-.4-.92-.59-1.43-.59-.52 0-1.04.2-1.43.59L10.3 9.45l-7.72 7.72c-.78.78-.78 2.05 0 2.83L4 21.41c.39.39.9.59 1.41.59.51 0 1.02-.2 1.41-.59l7.78-7.78 2.81-2.81c.8-.78.8-2.07 0-2.86zM5.41 20L4 18.59l7.72-7.72 1.47 1.35L5.41 20z\"/>\n",
              "  </svg>\n",
              "      </button>\n",
              "      \n",
              "  <style>\n",
              "    .colab-df-container {\n",
              "      display:flex;\n",
              "      flex-wrap:wrap;\n",
              "      gap: 12px;\n",
              "    }\n",
              "\n",
              "    .colab-df-convert {\n",
              "      background-color: #E8F0FE;\n",
              "      border: none;\n",
              "      border-radius: 50%;\n",
              "      cursor: pointer;\n",
              "      display: none;\n",
              "      fill: #1967D2;\n",
              "      height: 32px;\n",
              "      padding: 0 0 0 0;\n",
              "      width: 32px;\n",
              "    }\n",
              "\n",
              "    .colab-df-convert:hover {\n",
              "      background-color: #E2EBFA;\n",
              "      box-shadow: 0px 1px 2px rgba(60, 64, 67, 0.3), 0px 1px 3px 1px rgba(60, 64, 67, 0.15);\n",
              "      fill: #174EA6;\n",
              "    }\n",
              "\n",
              "    [theme=dark] .colab-df-convert {\n",
              "      background-color: #3B4455;\n",
              "      fill: #D2E3FC;\n",
              "    }\n",
              "\n",
              "    [theme=dark] .colab-df-convert:hover {\n",
              "      background-color: #434B5C;\n",
              "      box-shadow: 0px 1px 3px 1px rgba(0, 0, 0, 0.15);\n",
              "      filter: drop-shadow(0px 1px 2px rgba(0, 0, 0, 0.3));\n",
              "      fill: #FFFFFF;\n",
              "    }\n",
              "  </style>\n",
              "\n",
              "      <script>\n",
              "        const buttonEl =\n",
              "          document.querySelector('#df-f3b6a9b6-25a2-4b0a-8473-36ad12683be8 button.colab-df-convert');\n",
              "        buttonEl.style.display =\n",
              "          google.colab.kernel.accessAllowed ? 'block' : 'none';\n",
              "\n",
              "        async function convertToInteractive(key) {\n",
              "          const element = document.querySelector('#df-f3b6a9b6-25a2-4b0a-8473-36ad12683be8');\n",
              "          const dataTable =\n",
              "            await google.colab.kernel.invokeFunction('convertToInteractive',\n",
              "                                                     [key], {});\n",
              "          if (!dataTable) return;\n",
              "\n",
              "          const docLinkHtml = 'Like what you see? Visit the ' +\n",
              "            '<a target=\"_blank\" href=https://colab.research.google.com/notebooks/data_table.ipynb>data table notebook</a>'\n",
              "            + ' to learn more about interactive tables.';\n",
              "          element.innerHTML = '';\n",
              "          dataTable['output_type'] = 'display_data';\n",
              "          await google.colab.output.renderOutput(dataTable, element);\n",
              "          const docLink = document.createElement('div');\n",
              "          docLink.innerHTML = docLinkHtml;\n",
              "          element.appendChild(docLink);\n",
              "        }\n",
              "      </script>\n",
              "    </div>\n",
              "  </div>\n",
              "  "
            ]
          },
          "metadata": {},
          "execution_count": 82
        }
      ]
    },
    {
      "cell_type": "markdown",
      "source": [
        "### Insight №2 - what happens for a concrete person, without averaging?"
      ],
      "metadata": {
        "id": "PJcUoqJojxm7"
      }
    },
    {
      "cell_type": "code",
      "source": [
        "def plot_person_response(df_, df_indices_):\n",
        "    for df_index in df_indices_:\n",
        "        ax = df_.loc[\n",
        "            df_index,\n",
        "            [c for c in df_.columns if c != 'CONDITION']\n",
        "        ].transpose().plot(kind='bar')\n",
        "        ax.legend(df_.loc[df_index, 'CONDITION'])\n",
        "        ax.set_title(f'Person with index {df_index}')\n",
        "\n",
        "pep8(_ih)"
      ],
      "metadata": {
        "colab": {
          "base_uri": "https://localhost:8080/"
        },
        "id": "mTF7E5QDGeVz",
        "outputId": "992aec3d-da51-45f1-ad56-d97ab9fa2617"
      },
      "execution_count": 112,
      "outputs": [
        {
          "output_type": "stream",
          "name": "stdout",
          "text": [
            "cell_content.py:10:1: E305 expected 2 blank lines after class or function definition, found 1\n",
            "\n"
          ]
        }
      ]
    },
    {
      "cell_type": "code",
      "source": [
        "plot_person_response(\n",
        "    df_sample,\n",
        "    np.unique(df_sample.index)[:5]\n",
        ")"
      ],
      "metadata": {
        "colab": {
          "base_uri": "https://localhost:8080/",
          "height": 1000
        },
        "id": "IhqvLnWSGz52",
        "outputId": "0528722a-3d9e-402f-f2b2-eb00a3aca7aa"
      },
      "execution_count": 114,
      "outputs": [
        {
          "output_type": "display_data",
          "data": {
            "text/plain": [
              "<Figure size 432x288 with 1 Axes>"
            ],
            "image/png": "[encoded data removed]"
          },
          "metadata": {
            "needs_background": "light"
          }
        },
        {
          "output_type": "display_data",
          "data": {
            "text/plain": [
              "<Figure size 432x288 with 1 Axes>"
            ],
            "image/png": "[encoded data removed]"
          },
          "metadata": {
            "needs_background": "light"
          }
        },
        {
          "output_type": "display_data",
          "data": {
            "text/plain": [
              "<Figure size 432x288 with 1 Axes>"
            ],
            "image/png": "[encoded data removed]"
          },
          "metadata": {
            "needs_background": "light"
          }
        },
        {
          "output_type": "display_data",
          "data": {
            "text/plain": [
              "<Figure size 432x288 with 1 Axes>"
            ],
            "image/png": "[encoded data removed]"
          },
          "metadata": {
            "needs_background": "light"
          }
        },
        {
          "output_type": "display_data",
          "data": {
            "text/plain": [
              "<Figure size 432x288 with 1 Axes>"
            ],
            "image/png": "[encoded data removed]"
          },
          "metadata": {
            "needs_background": "light"
          }
        }
      ]
    },
    {
      "cell_type": "markdown",
      "source": [
        "### Insight № 3 - average elevation in dishonest response"
      ],
      "metadata": {
        "id": "7Hc4qWdaIYVk"
      }
    },
    {
      "cell_type": "code",
      "source": [
        "fig, ax = plt.subplots()\n",
        "\n",
        "differences_in_response = []\n",
        "questions = df_sample.columns[df_sample.columns != 'CONDITION']\n",
        "unique_person_indices = np.unique(df_sample.index)\n",
        "\n",
        "\n",
        "for unique_person_index in unique_person_indices:\n",
        "    # view with Honest and Dishonest responses of the same person\n",
        "    person_responses = pd.DataFrame(df_sample.loc[unique_person_index])\n",
        "    honest_responses = person_responses.loc[\n",
        "        person_responses['CONDITION'] == 'H',\n",
        "        questions\n",
        "    ]\n",
        "    dishonest_responses = person_responses.loc[\n",
        "        person_responses['CONDITION'] == 'D',\n",
        "        questions\n",
        "    ]\n",
        "\n",
        "    plotting_params = dict(marker='o', alpha=0.5)\n",
        "    ax.scatter(\n",
        "        x=range(honest_responses.shape[1]),\n",
        "        y=honest_responses.values[0],\n",
        "        color='red',\n",
        "        **plotting_params\n",
        "    )\n",
        "    \n",
        "    ax.scatter(\n",
        "        x=range(honest_responses.shape[1]),\n",
        "        y=dishonest_responses.values[0],\n",
        "        color='blue',\n",
        "        **plotting_params\n",
        "    )\n",
        "    differences_in_response.append(\n",
        "        dishonest_responses.values[0] - honest_responses.values[0])\n",
        "    del person_responses"
      ],
      "metadata": {
        "id": "zaRebT65MUyO",
        "outputId": "731b1f18-bd30-41dd-e1f7-22bc173f83db",
        "colab": {
          "base_uri": "https://localhost:8080/",
          "height": 265
        }
      },
      "execution_count": 197,
      "outputs": [
        {
          "output_type": "display_data",
          "data": {
            "text/plain": [
              "<Figure size 432x288 with 1 Axes>"
            ],
            "image/png": "[encoded data removed]"
          },
          "metadata": {
            "needs_background": "light"
          }
        }
      ]
    },
    {
      "cell_type": "code",
      "source": [
        "average_difference_in_response = np.mean(\n",
        "    differences_in_response,\n",
        "    axis=0\n",
        ")"
      ],
      "metadata": {
        "id": "pcHVeHAVQhxS"
      },
      "execution_count": 198,
      "outputs": []
    },
    {
      "cell_type": "code",
      "source": [
        "pd.DataFrame(average_difference_in_response, questions).plot(kind='bar')"
      ],
      "metadata": {
        "id": "nUbSFcPXR66o",
        "outputId": "05a3f05a-fbcf-46e4-aedb-416663c7abe6",
        "colab": {
          "base_uri": "https://localhost:8080/",
          "height": 302
        }
      },
      "execution_count": 199,
      "outputs": [
        {
          "output_type": "execute_result",
          "data": {
            "text/plain": [
              "<matplotlib.axes._subplots.AxesSubplot at 0x7f0d02eb6290>"
            ]
          },
          "metadata": {},
          "execution_count": 199
        },
        {
          "output_type": "display_data",
          "data": {
            "text/plain": [
              "<Figure size 432x288 with 1 Axes>"
            ],
            "image/png": "[encoded data removed]"
          },
          "metadata": {
            "needs_background": "light"
          }
        }
      ]
    }
  ]
}